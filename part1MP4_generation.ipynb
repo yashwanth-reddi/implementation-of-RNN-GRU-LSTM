{
 "cells": [
  {
   "cell_type": "code",
   "execution_count": 1,
   "metadata": {
    "id": "EYMwyojZe0JQ"
   },
   "outputs": [
    {
     "name": "stdout",
     "output_type": "stream",
     "text": [
      "--2023-04-05 20:18:23--  https://raw.githubusercontent.com/Junting98/language_data/master/language_data.zip\n",
      "Resolving raw.githubusercontent.com (raw.githubusercontent.com)... 185.199.109.133, 185.199.111.133, 185.199.110.133, ...\n",
      "Connecting to raw.githubusercontent.com (raw.githubusercontent.com)|185.199.109.133|:443... connected.\n",
      "HTTP request sent, awaiting response... 200 OK\n",
      "Length: 25976656 (25M) [application/zip]\n",
      "Saving to: ‘language_data.zip’\n",
      "\n",
      "language_data.zip   100%[===================>]  24.77M  --.-KB/s    in 0.06s   \n",
      "\n",
      "2023-04-05 20:18:23 (407 MB/s) - ‘language_data.zip’ saved [25976656/25976656]\n",
      "\n",
      "/bin/bash: unzip: command not found\n",
      "Defaulting to user installation because normal site-packages is not writeable\n",
      "Requirement already satisfied: unidecode in /opt/sw/spack/apps/linux-rhel8-x86_64_v2/gcc-10.3.0/python-3.9.9-jh/lib/python3.9/site-packages (1.3.4)\n"
     ]
    }
   ],
   "source": [
    "#!/usr/bin/env bash\n",
    "!wget --no-check-certificate --content-disposition https://raw.githubusercontent.com/Junting98/language_data/master/language_data.zip\n",
    "\n",
    "!unzip language_data.zip\n",
    "!rm language_data.zip\n",
    "!pip install unidecode"
   ]
  },
  {
   "cell_type": "code",
   "execution_count": 2,
   "metadata": {
    "id": "Cz9h83GeeD8w"
   },
   "outputs": [],
   "source": [
    "# https://github.com/spro/char-rnn.pytorch\n",
    "\n",
    "import unidecode\n",
    "import string\n",
    "import random\n",
    "import time\n",
    "import math\n",
    "import torch\n",
    "\n",
    "\n",
    "all_characters = string.printable\n",
    "n_characters = len(all_characters)\n",
    "\n",
    "def read_file(filename):\n",
    "    file = unidecode.unidecode(open(filename).read())\n",
    "    return file, len(file)\n",
    "\n",
    "# Turning a string into a tensor\n",
    "\n",
    "def char_tensor(string):\n",
    "    tensor = torch.zeros(len(string), requires_grad=True).long()\n",
    "    for c in range(len(string)):\n",
    "        try:\n",
    "            tensor[c] = all_characters.index(string[c])\n",
    "        except:\n",
    "            continue\n",
    "    return tensor\n",
    "\n",
    "# Readable time elapsed\n",
    "\n",
    "def time_since(since):\n",
    "    s = time.time() - since\n",
    "    m = math.floor(s / 60)\n",
    "    s -= m * 60\n",
    "    return '%dm %ds' % (m, s)\n",
    "\n"
   ]
  },
  {
   "cell_type": "code",
   "execution_count": 3,
   "metadata": {
    "id": "K1MzeENdeHez"
   },
   "outputs": [],
   "source": [
    "# https://github.com/spro/char-rnn.pytorch\n",
    "\n",
    "import torch\n",
    "import os\n",
    "import argparse\n",
    "\n",
    "# from rnn.helpers import *\n",
    "# from rnn.model import *\n",
    "\n",
    "def generate(decoder, prime_str='A', predict_len=100, temperature=0.8, device=None):\n",
    "    hidden = decoder.init_hidden(1, device=device)\n",
    "    prime_input = char_tensor(prime_str).unsqueeze(0).to(device)\n",
    "\n",
    "    predicted = prime_str\n",
    "\n",
    "    # Use priming string to \"build up\" hidden state\n",
    "    for p in range(len(prime_str) - 1):\n",
    "      _, hidden = decoder(prime_input[:,p], hidden)\n",
    "        \n",
    "    inp = prime_input[:,-1]\n",
    "    \n",
    "    for p in range(predict_len):\n",
    "      output, hidden = decoder(inp, hidden)\n",
    "      \n",
    "      # Sample from the network as a multinomial distribution\n",
    "\n",
    "      output_dist = output.data.view(-1).div(temperature).exp()\n",
    "      top_i = torch.multinomial(output_dist, 1)[0]\n",
    "\n",
    "      # Add predicted character to string and use as next input\n",
    "      predicted_char = all_characters[top_i]\n",
    "      predicted += predicted_char\n",
    "      inp = char_tensor(predicted_char).unsqueeze(0).to(device)\n",
    "\n",
    "    return predicted\n"
   ]
  },
  {
   "cell_type": "markdown",
   "metadata": {
    "id": "9Ts1KPw9dvOH"
   },
   "source": [
    "# Generating Text with an RNN"
   ]
  },
  {
   "cell_type": "code",
   "execution_count": 4,
   "metadata": {
    "id": "sSXvCz5VdvOL"
   },
   "outputs": [],
   "source": [
    "import unidecode\n",
    "import string\n",
    "import random\n",
    "import re\n",
    "import time\n",
    "\n",
    "import torch\n",
    "import torch.nn as nn\n",
    "\n",
    "%matplotlib inline\n",
    "\n",
    "%load_ext autoreload\n",
    "%autoreload 2"
   ]
  },
  {
   "cell_type": "code",
   "execution_count": 5,
   "metadata": {
    "id": "7tzouekHdvOO"
   },
   "outputs": [],
   "source": [
    "# from rnn.model import RNN\n",
    "# from rnn.helpers import time_since\n",
    "# from rnn.generate import generate"
   ]
  },
  {
   "cell_type": "code",
   "execution_count": 6,
   "metadata": {
    "id": "5lLA0w_GdvOO",
    "scrolled": true
   },
   "outputs": [],
   "source": [
    "device = torch.device(\"cuda:0\" if torch.cuda.is_available() else \"cpu\") "
   ]
  },
  {
   "cell_type": "markdown",
   "metadata": {
    "id": "9M0QlqIIdvOO"
   },
   "source": [
    "## Data Processing\n",
    "\n",
    "The file we are using is a plain text file. We turn any potential unicode characters into plain ASCII by using the `unidecode` package (which you can install via `pip` or `conda`)."
   ]
  },
  {
   "cell_type": "code",
   "execution_count": 7,
   "metadata": {
    "colab": {
     "base_uri": "https://localhost:8080/"
    },
    "id": "b_KW7yEddvOP",
    "outputId": "7afef722-d179-48cf-b2ff-306947dd33dd"
   },
   "outputs": [
    {
     "name": "stdout",
     "output_type": "stream",
     "text": [
      "file_len = 1115394\n",
      "train len:  1003854\n",
      "test len:  111540\n"
     ]
    }
   ],
   "source": [
    "all_characters = string.printable\n",
    "n_characters = len(all_characters)\n",
    "\n",
    "file_path = 'language_data/shakespeare.txt'\n",
    "file = unidecode.unidecode(open(file_path).read())\n",
    "file_len = len(file)\n",
    "print('file_len =', file_len)\n",
    "\n",
    "# we will leave the last 1/10th of text as test\n",
    "\n",
    "split = int(0.9*file_len)\n",
    "train_text = file[:split]\n",
    "test_text = file[split:]\n",
    "\n",
    "print('train len: ', len(train_text))\n",
    "print('test len: ', len(test_text))"
   ]
  },
  {
   "cell_type": "code",
   "execution_count": 8,
   "metadata": {
    "colab": {
     "base_uri": "https://localhost:8080/"
    },
    "id": "E00bs3FXdvOP",
    "outputId": "4b30f1c2-d1b8-444b-b752-6d59665e6cad"
   },
   "outputs": [
    {
     "name": "stdout",
     "output_type": "stream",
     "text": [
      "e:\n",
      "The sly slow hours shall not determinate\n",
      "The dateless limit of thy dear exile;\n",
      "The hopeless word of 'never to return'\n",
      "Breathe I against thee, upon pain of life.\n",
      "\n",
      "THOMAS MOWBRAY:\n",
      "A heavy sentence, my\n"
     ]
    }
   ],
   "source": [
    "chunk_len = 200\n",
    "\n",
    "def random_chunk(text):\n",
    "    start_index = random.randint(0, len(text) - chunk_len)\n",
    "    end_index = start_index + chunk_len + 1\n",
    "    return text[start_index:end_index]\n",
    "\n",
    "print(random_chunk(train_text))"
   ]
  },
  {
   "cell_type": "markdown",
   "metadata": {
    "id": "kUDxnGkGdvOP"
   },
   "source": [
    "### Input and Target data"
   ]
  },
  {
   "cell_type": "markdown",
   "metadata": {
    "id": "1Q0H44jQdvOQ"
   },
   "source": [
    "To make training samples out of the large string of text data, we will be splitting the text into chunks.\n",
    "\n",
    "Each chunk will be turned into a tensor, specifically a `LongTensor` (used for integer values), by looping through the characters of the string and looking up the index of each character in `all_characters`."
   ]
  },
  {
   "cell_type": "code",
   "execution_count": 9,
   "metadata": {
    "id": "MdISwtCLdvOQ"
   },
   "outputs": [],
   "source": [
    "# Turn string into list of longs\n",
    "def char_tensor(string):\n",
    "    tensor = torch.zeros(len(string), requires_grad=True).long()\n",
    "    for c in range(len(string)):\n",
    "        tensor[c] = all_characters.index(string[c])\n",
    "    return tensor"
   ]
  },
  {
   "cell_type": "markdown",
   "metadata": {
    "id": "cqnEonr7dvOQ"
   },
   "source": [
    "The following function loads a batch of input and target tensors for training. Each sample comes from a random chunk of text. A sample input will consist of all characters *except the last*, while the target wil contain all characters *following the first*. For example: if random_chunk='abc', then input='ab' and target='bc'"
   ]
  },
  {
   "cell_type": "code",
   "execution_count": 10,
   "metadata": {
    "id": "RBKeZCf7dvOR"
   },
   "outputs": [],
   "source": [
    "def load_random_batch(text, chunk_len, batch_size):\n",
    "    input_data = torch.zeros(batch_size, chunk_len).long().to(device)\n",
    "    target = torch.zeros(batch_size, chunk_len).long().to(device)\n",
    "    for i in range(batch_size):\n",
    "        start_index = random.randint(0, len(text) - chunk_len - 1)\n",
    "        end_index = start_index + chunk_len + 1\n",
    "        chunk = text[start_index:end_index]\n",
    "        input_data[i] = char_tensor(chunk[:-1])\n",
    "        target[i] = char_tensor(chunk[1:])\n",
    "    return input_data, target"
   ]
  },
  {
   "cell_type": "markdown",
   "metadata": {
    "id": "sMAyEZxQdvOR"
   },
   "source": [
    "# Implement model\n",
    "\n",
    "Your RNN model will take as input the character for step $t_{-1}$ and output a prediction for the next character $t$. The model should consiste of three layers - a linear layer that encodes the input character into an embedded state, an RNN layer (which may itself have multiple layers) that operates on that embedded state and a hidden state, and a decoder layer that outputs the predicted character scores distribution.\n",
    "\n",
    "\n",
    "You must implement your model in the `rnn/model.py` file. You should use a `nn.Embedding` object for the encoding layer, a RNN model like `nn.RNN` or `nn.LSTM`, and a `nn.Linear` layer for the final a predicted character score decoding layer.\n",
    "\n",
    "\n",
    "**TODO:** Implement the model in RNN `rnn/model.py`"
   ]
  },
  {
   "cell_type": "markdown",
   "metadata": {
    "id": "MsGCl4q7dvOS"
   },
   "source": [
    "# Evaluating\n",
    "\n",
    "To evaluate the network we will feed one character at a time, use the outputs of the network as a probability distribution for the next character, and repeat. To start generation we pass a priming string to start building up the hidden state, from which we then generate one character at a time.\n",
    "\n",
    "\n",
    "Note that in the `evaluate` function, every time a prediction is made the outputs are divided by the \"temperature\" argument. Higher temperature values make actions more equally likely giving more \"random\" outputs. Lower temperature values (less than 1) high likelihood options contribute more. A temperature near 0 outputs only the most likely outputs.\n",
    "\n",
    "You may check different temperature values yourself, but we have provided a default which should work well."
   ]
  },
  {
   "cell_type": "code",
   "execution_count": 11,
   "metadata": {
    "id": "mrVOv2z_dvOS"
   },
   "outputs": [],
   "source": [
    "def evaluate(rnn, prime_str='A', predict_len=100, temperature=0.8):\n",
    "    hidden = rnn.init_hidden(1, device=device)\n",
    "    prime_input = char_tensor(prime_str)\n",
    "    predicted = prime_str\n",
    "\n",
    "    # Use priming string to \"build up\" hidden state\n",
    "    for p in range(len(prime_str) - 1):\n",
    "        _, hidden = rnn(prime_input[p].unsqueeze(0).to(device), hidden)\n",
    "    inp = prime_input[-1]\n",
    "    \n",
    "    for p in range(predict_len):\n",
    "        output, hidden = rnn(inp.unsqueeze(0).to(device), hidden)\n",
    "        \n",
    "        # Sample from the network as a multinomial distribution\n",
    "        output_dist = output.data.view(-1).div(temperature).exp()\n",
    "        top_i = torch.multinomial(output_dist, 1)[0]\n",
    "        \n",
    "        # Add predicted character to string and use as next input\n",
    "        predicted_char = all_characters[top_i]\n",
    "        predicted += predicted_char\n",
    "        inp = char_tensor(predicted_char)\n",
    "\n",
    "    return predicted"
   ]
  },
  {
   "cell_type": "code",
   "execution_count": 12,
   "metadata": {
    "id": "frWiYe-hyMo3"
   },
   "outputs": [],
   "source": [
    "import torch\n",
    "import torch.nn as nn\n",
    "\n",
    "class RNN(nn.Module):\n",
    "    def __init__(self, input_size, hidden_size, output_size, model_type=\"rnn\", n_layers=1):\n",
    "        super(RNN, self).__init__()\n",
    "\n",
    "        self.model_type = model_type\n",
    "        self.input_size = input_size\n",
    "        self.hidden_size = hidden_size\n",
    "        self.output_size = output_size\n",
    "        self.n_layers = n_layers\n",
    "\n",
    "        self.embedding = nn.Embedding(input_size, hidden_size)\n",
    "\n",
    "        self.linear = nn.Linear(hidden_size, output_size)\n",
    "        \n",
    "        self.rnn = nn.RNN(hidden_size, hidden_size, n_layers)\n",
    "        self.lstm = nn.LSTM(hidden_size, hidden_size, n_layers)\n",
    "        self.gru = nn.GRU(hidden_size, hidden_size, n_layers)\n",
    "\n",
    "    def forward(self, input, hidden):\n",
    "\n",
    "        embedded_input = self.embedding(input)\n",
    "\n",
    "        if self.model_type == \"rnn\":\n",
    "          output, hidden = self.rnn(embedded_input.view(self.n_layers,input.size(0),-1), hidden)\n",
    "        elif self.model_type == \"lstm\":\n",
    "          output, hidden = self.lstm(embedded_input.view(self.n_layers,input.size(0),-1), hidden)\n",
    "        elif self.model_type == \"gru\":\n",
    "          output, hidden = self.gru(embedded_input.view(self.n_layers,input.size(0),-1), hidden)\n",
    "\n",
    "        output = self.linear(output)\n",
    "\n",
    "        return output, hidden\n",
    "\n",
    "    def init_hidden(self, batch_size, device=None):\n",
    "      \n",
    "        if self.model_type == \"lstm\":\n",
    "            hidden=(torch.zeros(self.n_layers, batch_size, self.hidden_size, device=device),\n",
    "                    torch.zeros(self.n_layers, batch_size, self.hidden_size, device=device))\n",
    "        else:\n",
    "          hidden = torch.zeros(self.n_layers, batch_size, self.hidden_size, device=device)\n",
    "\n",
    "        return hidden\n"
   ]
  },
  {
   "cell_type": "markdown",
   "metadata": {
    "id": "f0PH6rmSdvOT"
   },
   "source": [
    "# Train RNN"
   ]
  },
  {
   "cell_type": "code",
   "execution_count": 13,
   "metadata": {
    "id": "bPhQxG6jY7kk"
   },
   "outputs": [],
   "source": [
    "def train(rnn, input, target, optimizer, criterion):\n",
    "  \n",
    "  stringlength,batch_size,loss  = input.size(1),input.size(0),0\n",
    "  hidden = rnn.init_hidden(batch_size,device)\n",
    "  \n",
    "  rnn.zero_grad()\n",
    "\n",
    "  for i in range(stringlength):\n",
    "    output, hidden = rnn(input[:, i], hidden)\n",
    "\n",
    "    loss += criterion(output.view(batch_size, -1), target[:,i])\n",
    "\n",
    "  loss.backward()\n",
    "  optimizer.step()\n",
    "  sigma_loss = loss.item()\n",
    "  average_loss = sigma_loss/batch_size\n",
    "\n",
    "  return  average_loss\n",
    "\n",
    "\n",
    "def eval_test(rnn, inp, target,criterion,batch_size=100):\n",
    "    with torch.no_grad():\n",
    "        hidden = rnn.init_hidden(batch_size, device=device)\n",
    "        loss = 0\n",
    "        for c in range(chunk_len):\n",
    "            output, hidden = rnn(inp[:,c], hidden)\n",
    "            loss += criterion(output.view(batch_size, -1), target[:,c])\n",
    "    \n",
    "    return loss.data.item() / chunk_len"
   ]
  },
  {
   "cell_type": "markdown",
   "metadata": {
    "id": "1wkwmq-qdvOU"
   },
   "source": [
    "### Train function\n",
    "\n",
    "**TODO**: Fill in the train function. You should initialize a hidden layer representation using your RNN's `init_hidden` function, set the model gradients to zero, and loop over each time step (character) in the input tensor. For each time step compute the output of the of the RNN and compute the loss over the output and the corresponding ground truth time step in `target`. The loss should be averaged over all time steps. Lastly, call backward on the averaged loss and take an optimizer step.\n"
   ]
  },
  {
   "cell_type": "code",
   "execution_count": 16,
   "metadata": {
    "id": "dUbUGZKbl6ye"
   },
   "outputs": [],
   "source": [
    "import matplotlib.pyplot as plt\n",
    "import matplotlib.ticker as ticker\n",
    "\n",
    "def complete(batch_size=100,n_epochs=1500,hidden_size = 100,n_layers = 1,learning_rate = 0.01,model_type = 'rnn',print_every = 100,plot_every = 100):\n",
    "\n",
    "  model = RNN(n_characters, hidden_size, n_characters, model_type=model_type, n_layers=n_layers).to(device)\n",
    "\n",
    "  rnn_optimizer = torch.optim.Adam(model.parameters(), lr=learning_rate)\n",
    "  criterion = nn.CrossEntropyLoss()\n",
    "\n",
    "  start = time.time()\n",
    "  all_losses = []\n",
    "  test_losses = []\n",
    "  loss_avg = 0\n",
    "  test_loss_avg = 0\n",
    "\n",
    "  print(\"Training for %d epochs...\" % n_epochs)\n",
    "  for epoch in range(1, n_epochs + 1):\n",
    "      loss = train(model, *load_random_batch(train_text, chunk_len, batch_size), rnn_optimizer, criterion)\n",
    "      loss_avg += loss\n",
    "      \n",
    "      test_loss = eval_test(model, *load_random_batch(test_text, chunk_len, batch_size),criterion)\n",
    "      test_loss_avg += test_loss\n",
    "\n",
    "      if epoch % print_every == 0:\n",
    "          print('[%s (%d %d%%) train loss: %.4f, test_loss: %.4f]' % (time_since(start), epoch, epoch / n_epochs * 100, loss, test_loss))\n",
    "          print(generate(model, 'Wh', 100, device=device), '\\n')\n",
    "\n",
    "      if epoch % plot_every == 0:\n",
    "          print(epoch)\n",
    "          all_losses.append(loss_avg / plot_every)\n",
    "          test_losses.append(test_loss_avg / plot_every)\n",
    "          loss_avg = 0\n",
    "          test_loss_avg = 0\n",
    "  \n",
    "  plt.figure()\n",
    "  plt.plot(all_losses)\n",
    "  plt.plot(test_losses, color='r')\n",
    "\n",
    "  generated_text = evaluate(model, prime_str='Th', predict_len=1000)\n",
    "\n",
    "  print(\"text generation for model type\",model_type,\"   \",generated_text)\n",
    "\n",
    "  return model"
   ]
  },
  {
   "cell_type": "code",
   "execution_count": null,
   "metadata": {
    "id": "qYHc3YKytdZL"
   },
   "outputs": [],
   "source": []
  },
  {
   "cell_type": "code",
   "execution_count": 17,
   "metadata": {
    "id": "AY5EW5P3nZFE",
    "outputId": "6f6716ce-651d-4f54-9889-207f9f68d692",
    "scrolled": true
   },
   "outputs": [
    {
     "name": "stdout",
     "output_type": "stream",
     "text": [
      "Training for 1500 epochs...\n",
      "[0m 29s (100 6%) train loss: 3.7998, test_loss: 1.9724]\n",
      "Whenild, by my gook now whatk go, there newerung\n",
      "The tike of and it tart geem tach re desod wort. I hi \n",
      "\n",
      "100\n",
      "[0m 59s (200 13%) train loss: 3.4836, test_loss: 1.8930]\n",
      "Whey doth the lay way hate and he sour songer, bise throne, his peap me;\n",
      "Me to heards teld worth,\n",
      "That \n",
      "\n",
      "200\n",
      "[1m 29s (300 20%) train loss: 3.3245, test_loss: 1.8252]\n",
      "Who so the love the bewory to mine, would course potched of thein to little\n",
      "Thee?\n",
      "\n",
      "Bishall my sorrenut \n",
      "\n",
      "300\n",
      "[1m 59s (400 26%) train loss: 3.2634, test_loss: 1.8163]\n",
      "What me?\n",
      "\n",
      "AlTAUS:\n",
      "Seeption rucked the servin come the hate abomforse to bricied\n",
      "Ay, it.\n",
      "\n",
      "POLIXENES:\n",
      "Th \n",
      "\n",
      "400\n",
      "[2m 29s (500 33%) train loss: 3.2599, test_loss: 1.7758]\n",
      "What he prought ended on like see in his fame,\n",
      "To have a drantry early than thy pinits\n",
      "Envelten\n",
      "Of in  \n",
      "\n",
      "500\n",
      "[2m 59s (600 40%) train loss: 3.2367, test_loss: 1.8069]\n",
      "Where not\n",
      "a leave him like thus more that an my lurdanand, when that I court air Luke sword a striced  \n",
      "\n",
      "600\n",
      "[3m 28s (700 46%) train loss: 3.1786, test_loss: 1.7982]\n",
      "What here and so the other at disincy the distrued rittle that cold conlied to the war, and be and the \n",
      "\n",
      "700\n",
      "[3m 58s (800 53%) train loss: 3.2147, test_loss: 1.7972]\n",
      "Wher bread, thou are to changed reverty son the warm! he found not with the fair his quly!\n",
      "\n",
      "Mesner:\n",
      "Wh \n",
      "\n",
      "800\n",
      "[4m 28s (900 60%) train loss: 3.1289, test_loss: 1.8089]\n",
      "Whating day bock of cannot to him for the service, wontest whose that any any turn, sir, I be the pard \n",
      "\n",
      "900\n",
      "[4m 58s (1000 66%) train loss: 3.2290, test_loss: 1.7820]\n",
      "Where have pressing of done! on our child.\n",
      "\n",
      "RIVERS:\n",
      "What do it be it were down\n",
      "Do will thinks of my no \n",
      "\n",
      "1000\n",
      "[5m 28s (1100 73%) train loss: 3.1022, test_loss: 1.7678]\n",
      "Whire of the behold fail the bear's hour your hands\n",
      "There bearth, they:\n",
      "Which conwoll? I conwo hole so \n",
      "\n",
      "1100\n",
      "[5m 58s (1200 80%) train loss: 3.1996, test_loss: 1.8035]\n",
      "Wheild, we say makes a days, will at his love?\n",
      "Go, has my lord yis those ever of you that than fight y \n",
      "\n",
      "1200\n",
      "[6m 27s (1300 86%) train loss: 3.1720, test_loss: 1.7627]\n",
      "What is our botning, and and Julied the old be day, you be with a man,\n",
      "And well?\n",
      "\n",
      "MENENIUS:\n",
      "He myself  \n",
      "\n",
      "1300\n",
      "[6m 57s (1400 93%) train loss: 3.1789, test_loss: 1.8090]\n",
      "Whence Edward more some a commandor, words a counts: I as spare with yourself, by this all entreew, an \n",
      "\n",
      "1400\n",
      "[7m 27s (1500 100%) train loss: 3.1773, test_loss: 1.7694]\n",
      "What't:\n",
      "Well, or not me young here, it had I hour well here may will I opness me forshat and the king, \n",
      "\n",
      "1500\n",
      "text generation for model type rnn     ThINCEN EDWARD:\n",
      "I'ld be still and for a sightly to son's latimented in the heavent, could you I took her momelled without are is me as now.\n",
      "\n",
      "ISABELLA:\n",
      "You hands,\n",
      "To do at our and on thy berelfaph,\n",
      "But surp'd hear\n",
      "The tatone, and while not\n",
      "I proy our sort me, and not as betters, the altence in dove vood and ruck, and manciet to God doth service this so the mark thid can the rest or hear us about me, thou keep them, my dricion; in made to my compreat, hear in the look him this astion their strind the mother, which thou after old slet;\n",
      "I dead.\n",
      "\n",
      "KING RICHARD II:\n",
      "What cruel:\n",
      "That more follow sease in them.\n",
      "\n",
      "ESCALUS:\n",
      "O, hermars suorce, but is\n",
      "moor:\n",
      "Who matter, stay'd be light.\n",
      "\n",
      "SAMPSON:\n",
      "She with the is the becomainst it nou pitime sace as the may would I'll my hither\n",
      "I have not: we them.\n",
      "\n",
      "WARWICK:\n",
      "How they foul, be home to daughter alonoth,\n",
      "A soul I shear not with the houst, and from a match.\n",
      "\n",
      "ELYOLL GREY:\n",
      "Ah in the but comes disester'd conwear, her anwere to strike of heaven her not and we th\n"
     ]
    },
    {
     "data": {
      "image/png": "[encoded data removed]",
      "text/plain": [
       "<Figure size 432x288 with 1 Axes>"
      ]
     },
     "metadata": {
      "needs_background": "light"
     },
     "output_type": "display_data"
    }
   ],
   "source": [
    "rnn1 = complete(model_type='rnn',hidden_size = 100,n_layers=1)"
   ]
  },
  {
   "cell_type": "code",
   "execution_count": 19,
   "metadata": {
    "id": "G3xJNoQNr2iu",
    "outputId": "3f85af95-d31e-40ec-cae9-8b5249e72e3f"
   },
   "outputs": [
    {
     "name": "stdout",
     "output_type": "stream",
     "text": [
      "Training for 1500 epochs...\n",
      "[0m 30s (100 6%) train loss: 3.6550, test_loss: 1.8947]\n",
      "Whand:\n",
      "Jore bested of on the rencessett you, shall siness but this\n",
      "or man the earping that chaver, for \n",
      "\n",
      "100\n",
      "[1m 0s (200 13%) train loss: 3.3513, test_loss: 1.8055]\n",
      "Wharch as of her love wirfom they seathern's with wyour;\n",
      "Cast not our too there to then how and prieft \n",
      "\n",
      "200\n",
      "[1m 31s (300 20%) train loss: 3.1516, test_loss: 1.7707]\n",
      "Whyor dring; go's prom.\n",
      "\n",
      "GLOUCIES:\n",
      "What not all she fond and now to acpure.\n",
      "\n",
      "RATHAMARUCIO:\n",
      "And that th \n",
      "\n",
      "300\n",
      "[2m 1s (400 26%) train loss: 3.0994, test_loss: 1.7123]\n",
      "Whally think way, the life.\n",
      "\n",
      "FGORYOP:\n",
      "Erew kind honourable stand show the marcy\n",
      "down; fear, with me th \n",
      "\n",
      "400\n",
      "[2m 32s (500 33%) train loss: 3.0739, test_loss: 1.7266]\n",
      "Where him.\n",
      "\n",
      "DREY:\n",
      "My proast here are of him!\n",
      "\n",
      "VOLUMNIA:\n",
      "I will be are excellented.\n",
      "\n",
      "GLOUCESTER:\n",
      "I do d \n",
      "\n",
      "500\n",
      "[3m 2s (600 40%) train loss: 3.0314, test_loss: 1.7573]\n",
      "Whall comund dray\n",
      "May in your sear away reppeace,\n",
      "On him seck, afully you say batters,\n",
      "Peraites, that  \n",
      "\n",
      "600\n",
      "[3m 33s (700 46%) train loss: 2.9948, test_loss: 1.6694]\n",
      "Which the daught,\n",
      "But if thou be voice of a shall be her comes expry\n",
      "so should that way for the flatte \n",
      "\n",
      "700\n",
      "[4m 3s (800 53%) train loss: 3.0060, test_loss: 1.6656]\n",
      "Where no cold, what shall besime\n",
      "As fight the noble country sever other good lady\n",
      "Camiss dired but bid \n",
      "\n",
      "800\n",
      "[4m 34s (900 60%) train loss: 2.9109, test_loss: 1.6594]\n",
      "Whath, and them the subjects it\n",
      "wrether thou but we have she earn but how:\n",
      "O, 'tis not helpant with th \n",
      "\n",
      "900\n",
      "[5m 4s (1000 66%) train loss: 2.9368, test_loss: 1.7053]\n",
      "What I apposish of my certure we do it made spirets comfort!\n",
      "\n",
      "Lenter:\n",
      "My grachiender no lives you do a \n",
      "\n",
      "1000\n",
      "[5m 35s (1100 73%) train loss: 2.9659, test_loss: 1.6297]\n",
      "Why wakest is is his squay.\n",
      "\n",
      "GLOUCESTER:\n",
      "So so then it to hear the hostes\n",
      "To may so times accused that \n",
      "\n",
      "1100\n",
      "[6m 5s (1200 80%) train loss: 2.9861, test_loss: 1.7020]\n",
      "Whether is you well.\n",
      "\n",
      "COMINIUS:\n",
      "But now now, why, what but see of down thou, 'Tis inforrar.\n",
      "\n",
      "KING RICH \n",
      "\n",
      "1200\n",
      "[6m 36s (1300 86%) train loss: 2.8612, test_loss: 1.6813]\n",
      "Where's 'sellonour;\n",
      "But no sake must he endushwicks me petty\n",
      "Before our saughter bach, with the world  \n",
      "\n",
      "1300\n",
      "[7m 7s (1400 93%) train loss: 2.8873, test_loss: 1.6667]\n",
      "What hast your heart, 'tis married,\n",
      "To untoundusate the come, me you should\n",
      "crave the word mercution!\n",
      " \n",
      "\n",
      "1400\n",
      "[7m 37s (1500 100%) train loss: 2.8815, test_loss: 1.6653]\n",
      "Whick and what tenderior of your offeced.\n",
      "The word my lord, of the see't of me the using\n",
      "Friut thy goo \n",
      "\n",
      "1500\n",
      "text generation for model type gru     Thally she worthy speed\n",
      "of him, when sir, one Citiet, I state that I\n",
      "will be in this blessic you pride the might\n",
      "As Duke of Marciushy, I sick, my far,\n",
      "For sun me your easuresing to your heart\n",
      "As he have shrus descient let and hart.\n",
      "\n",
      "DUKE OF YORK:\n",
      "Say you'll deeps for my will not partion;\n",
      "For be kindly or wind within this sains\n",
      "Shall be deparctarry and south, yet to roart?\n",
      "\n",
      "First Citizens\n",
      "Hath the bed be wast the Duke o'er-shine,\n",
      "Where my may stoleed of the bloody in my son's become.\n",
      "And before I time at our absolut\n",
      "Insil me lack your spent as a word shold\n",
      "That no crown this to the maring! do not think you give the jeed\n",
      "The take and then then and must be tear with me he.\n",
      "\n",
      "Nurse:\n",
      "More your bedness, though my hour made-mories, it so,\n",
      "For I would here care's in entrain,\n",
      "And safetient we manst with the first now as every direst's the king\n",
      "Than with all, you me to the dangel:\n",
      "For earth our life, go, before I in the our sick,\n",
      "Did the ast with Palated my join'd\n",
      "Do he will be madgs upon the restr\n"
     ]
    },
    {
     "data": {
      "image/png": "[encoded data removed]",
      "text/plain": [
       "<Figure size 432x288 with 1 Axes>"
      ]
     },
     "metadata": {
      "needs_background": "light"
     },
     "output_type": "display_data"
    }
   ],
   "source": [
    "gru1 = complete(model_type='gru',hidden_size = 100,n_layers=1)"
   ]
  },
  {
   "cell_type": "code",
   "execution_count": 21,
   "metadata": {
    "id": "GpPdHThcowgZ",
    "outputId": "398c9196-30fe-466d-c3d6-1f42d85920f6"
   },
   "outputs": [
    {
     "name": "stdout",
     "output_type": "stream",
     "text": [
      "Training for 1500 epochs...\n",
      "[0m 30s (100 6%) train loss: 3.7684, test_loss: 1.9779]\n",
      "Whay not wilve my part's your conour make math me not,\n",
      "Whoul with you, what I throre, Forble him, the  \n",
      "\n",
      "100\n",
      "[1m 1s (200 13%) train loss: 3.4177, test_loss: 1.8442]\n",
      "Why sent we roved be dore;\n",
      "Thee hat is this life, the lifowry elver,\n",
      "And us that vice, so his swell;\n",
      "H \n",
      "\n",
      "200\n",
      "[1m 32s (300 20%) train loss: 3.2687, test_loss: 1.7648]\n",
      "What ie ruint me our deach to news,\n",
      "When give to were not pacless that paspeced distach the mides the  \n",
      "\n",
      "300\n",
      "[2m 2s (400 26%) train loss: 3.1006, test_loss: 1.7331]\n",
      "Which mist the ary the better for you hath sheloo,\n",
      "A becon they know; and trisirnes them in the gond o \n",
      "\n",
      "400\n",
      "[2m 33s (500 33%) train loss: 3.1317, test_loss: 1.6936]\n",
      "Whose she shall I there love you thee.\n",
      "\n",
      "ISABELLA:\n",
      "And, part the hearted sent. That cores upon thy such \n",
      "\n",
      "500\n",
      "[3m 4s (600 40%) train loss: 3.0418, test_loss: 1.7074]\n",
      "What thy love to thee, wels.\n",
      "\n",
      "MENENIUS:\n",
      "What with end! That were of her tite,\n",
      "You care of doth as our  \n",
      "\n",
      "600\n",
      "[3m 34s (700 46%) train loss: 3.0300, test_loss: 1.6978]\n",
      "Why word him.\n",
      "\n",
      "First Servant:\n",
      "I trough, and to the sworn and cousest me to the shall that\n",
      "Should truri \n",
      "\n",
      "700\n",
      "[4m 5s (800 53%) train loss: 2.9464, test_loss: 1.6470]\n",
      "What, that not the doubly, like as the commons of speak,\n",
      "The country do'st the moese not them; if the  \n",
      "\n",
      "800\n",
      "[4m 36s (900 60%) train loss: 2.9460, test_loss: 1.6559]\n",
      "What, but the suction.\n",
      "\n",
      "ISABELLA:\n",
      "Yet to my think you, our gracit, and the hears of your like signis,\n",
      " \n",
      "\n",
      "900\n",
      "[5m 7s (1000 66%) train loss: 2.9461, test_loss: 1.6758]\n",
      "Which can welthour from that great\n",
      "Of here\n",
      "The marken's runish'd so much sendows has I devil have brea \n",
      "\n",
      "1000\n",
      "[5m 37s (1100 73%) train loss: 2.8566, test_loss: 1.6564]\n",
      "What's underst thy vilesed with him the dreakes to his honour'd with maid the wants\n",
      "To reasontent-a sa \n",
      "\n",
      "1100\n",
      "[6m 8s (1200 80%) train loss: 2.9283, test_loss: 1.6502]\n",
      "What now, dost with nothing;\n",
      "And Henry's death for so wis the changedly fain\n",
      "the greet thee to the wor \n",
      "\n",
      "1200\n",
      "[6m 39s (1300 86%) train loss: 2.8739, test_loss: 1.6398]\n",
      "What, to him do,\n",
      "That you be juditess do this soldiers?\n",
      "\n",
      "AUTOLYCUS:\n",
      "Why, that when he is the percure;\n",
      " \n",
      "\n",
      "1300\n",
      "[7m 9s (1400 93%) train loss: 2.8816, test_loss: 1.6611]\n",
      "What, by the seem\n",
      "And you, they't to see, the father,\n",
      "Ware this hopes hold so thank your thousand seem \n",
      "\n",
      "1400\n",
      "[7m 40s (1500 100%) train loss: 2.9164, test_loss: 1.6309]\n",
      "Whose since, with him.\n",
      "\n",
      "EDWARD:\n",
      "Ay, stands budiar speak not her queen and with this\n",
      "of a poor are the  \n",
      "\n",
      "1500\n",
      "text generation for model type lstm     Though him death of little.\n",
      "\n",
      "KING EDWARD IV:\n",
      "Then, all him 't he fortune as goodst\n",
      "To said thee, with the Lord owers are in this dead stone or he hath with me\n",
      "That a soul me drink of a sport spently and here:\n",
      "O voicions concutience, and so wercouch in the well\n",
      "With new unkin; to the needs.\n",
      "\n",
      "POMPEY:\n",
      "Go in this leave us for a minds or thing not\n",
      "That that you will not me of son: dest as at\n",
      "With her better noble sword,\n",
      "And can Aufidius of your words and son chasticip:\n",
      "For of speak shall thou art wilt here, but the reasons\n",
      "To that lies like that malingt that night the ofinewel of grief.\n",
      "\n",
      "SICINIUS:\n",
      "He were, I'll go. I would not the mattre houst thy\n",
      "knempppiness affector dims the king\n",
      "Righned and absence common than\n",
      "deper of his preass. What be officest for what's letter like to such more?\n",
      "Had sage, and night, and shame sin.\n",
      "\n",
      "Clown:\n",
      "Aufly prepared that lay to thy death and\n",
      "think of such many, live to same, yes\n",
      "To mier men more hear the duke,\n",
      "So let the made to thy vantious prozence\n",
      "The Duke of \n"
     ]
    },
    {
     "data": {
      "image/png": "[encoded data removed]",
      "text/plain": [
       "<Figure size 432x288 with 1 Axes>"
      ]
     },
     "metadata": {
      "needs_background": "light"
     },
     "output_type": "display_data"
    }
   ],
   "source": [
    "lstm1 = complete(model_type='lstm',hidden_size = 100,n_layers=1)"
   ]
  },
  {
   "cell_type": "code",
   "execution_count": null,
   "metadata": {
    "id": "Xw4aDdVgr3Q0"
   },
   "outputs": [],
   "source": []
  },
  {
   "cell_type": "code",
   "execution_count": null,
   "metadata": {
    "id": "NBspyLPdrxaX"
   },
   "outputs": [],
   "source": []
  },
  {
   "cell_type": "code",
   "execution_count": null,
   "metadata": {
    "id": "f8D34lXvr-Mc"
   },
   "outputs": [],
   "source": []
  },
  {
   "cell_type": "code",
   "execution_count": null,
   "metadata": {
    "id": "UhxlQNMJsDPX"
   },
   "outputs": [],
   "source": []
  },
  {
   "cell_type": "code",
   "execution_count": 22,
   "metadata": {
    "colab": {
     "base_uri": "https://localhost:8080/"
    },
    "id": "oQ1ZV350dvOV",
    "outputId": "e2806bf0-0d88-49a3-8b0d-3a9c19e45169"
   },
   "outputs": [
    {
     "name": "stdout",
     "output_type": "stream",
     "text": [
      "Thif heart and ratis,\n",
      "Whose\n",
      "But surestle doth his law:\n",
      "Between\n",
      "his vap\n",
      "That now!\n",
      "For live were for you? must show you, and her chance,\n",
      "The will with his intangers,\n",
      "And well: your can have is it.\n",
      "\n",
      "VALUE:\n",
      "\n",
      "First Citizen:\n",
      "He may unstry in us,\n",
      "To most begur.\n",
      "\n",
      "ISABELLA:\n",
      "Good old by your blest own and them by cheeks belightly; and rated me of my blood\n",
      "That is sun\n",
      "And have and have\n",
      "Behod and rights,\n",
      "The priad of my mother of rescied, the nets of the son have the soon mesters stay so love hunst'rth. Father with this were in it, which condinar; blow my father's ras, I our true again merely, there.\n",
      "I am thou arish that that such wide!\n",
      "\n",
      "LUCIO:\n",
      "Well; or buture\n",
      "I'll should begate, again\n",
      "Of the cold me of that he god's back, as by his die! Ruther; begh to with thy king.\n",
      "\n",
      "ROMEO:\n",
      "Come, the peace, the poor lets anough were should down a shalt read him.\n",
      "\n",
      "Second Servingman:\n",
      "We will I prith this kinstruy come, as Grumiet it more we shame;\n",
      "And I call I hurblocions hand, and bold a sweath well you crave by an\n"
     ]
    }
   ],
   "source": [
    "print(evaluate(rnn1, prime_str='Th', predict_len=1000))"
   ]
  },
  {
   "cell_type": "code",
   "execution_count": 23,
   "metadata": {
    "id": "0_80gtnmsNq7",
    "outputId": "01fe2ce5-9dfe-43bd-ea79-482461d39748"
   },
   "outputs": [
    {
     "name": "stdout",
     "output_type": "stream",
     "text": [
      "The be that affected in his\n",
      "come accames the dear not on in is the royous\n",
      "From and way, for to untory a wit stain such\n",
      "That that beggar all and prince, my lord,\n",
      "The come thus me it the better of their calls lips!\n",
      "I said thus him not comely meney,\n",
      "And any tender are not in themselve,\n",
      "Belut shall stains as'dle fair you any that the officing\n",
      "That I shall\n",
      "bincess way such a saw will have not peace.\n",
      "\n",
      "Second Servingman:\n",
      "Why, heart-hoot content the last the Salk!\n",
      "Why, then affus hands of him all husband the remer:\n",
      "But though me this another within shall bear in the fierds\n",
      "Tell or friar hereigh.\n",
      "\n",
      "DUKE OF AUMERLE:\n",
      "Then that prince you are with hope of this.\n",
      "\n",
      "ESCALUS:\n",
      "Look, I seem to so it you:\n",
      "I do is that the resend my sit with more.\n",
      "To they are. Thou art you rough and paffuff,\n",
      "No mine? wind did thee this man more dead.\n",
      "\n",
      "HASTMANANA:\n",
      "He which from his lawurance the sail,\n",
      "Which any in the fither'd course:\n",
      "Whose wither cousin.\n",
      "\n",
      "EDWARD:\n",
      "Those made upon't. For miseral, and she of the gentleman,\n",
      "That \n"
     ]
    }
   ],
   "source": [
    "print(evaluate(gru1, prime_str='Th', predict_len=1000))\n"
   ]
  },
  {
   "cell_type": "code",
   "execution_count": 24,
   "metadata": {
    "id": "ajcL70tJsRQK",
    "outputId": "b875087e-6a1d-4636-9bbc-53fd03144f1f"
   },
   "outputs": [
    {
     "name": "stdout",
     "output_type": "stream",
     "text": [
      "Though this state:\n",
      "But thou harded him for I will get pity.\n",
      "\n",
      "MENENIUS:\n",
      "Think me to the suit, which is lost.\n",
      "\n",
      "MENENIUS:\n",
      "And is thy death is this.\n",
      "\n",
      "PAULINA:\n",
      "\n",
      "DUKE VINCENTIO:\n",
      "I tell his pain on him to his haince.\n",
      "Forgiving is cannot a man;\n",
      "Though not thee? foresorn'd? or common.\n",
      "\n",
      "JULIET:\n",
      "Some king with a strength's day that prayers.\n",
      "\n",
      "BENVOLIO:\n",
      "Bad late ertaments and the duke to him with thrush:\n",
      "It will that was a man, prebless againty\n",
      "Than not the best and new silent my murder and the full may\n",
      "this being them them I with his scander'd your reason smock\n",
      "sheree cared against crown?\n",
      "\n",
      "BUCKINGHAM:\n",
      "When where Menuce, and I am trumpet shall noble,\n",
      "To the made grace to any purtey but like us.\n",
      "\n",
      "PAULINA:\n",
      "Why I may follow you tell this from your mellous\n",
      "I do be dear let elmand wherein;\n",
      "All thy sun him that neck'st, well her danger'd me:\n",
      "A words and to this lord will marry!\n",
      "But the death with him and more grace,\n",
      "The tongue a better throw was a hurdst;\n",
      "And you villain, and shall here. What shall on them\n"
     ]
    }
   ],
   "source": [
    "print(evaluate(lstm1, prime_str='Th', predict_len=1000))\n"
   ]
  },
  {
   "cell_type": "markdown",
   "metadata": {
    "id": "D-Bwv723dvOV"
   },
   "source": [
    "# Hyperparameter Tuning\n",
    "\n",
    "Some things you should try to improve your network performance are:\n",
    "- Different RNN types. Switch the basic RNN network in your model to a GRU and LSTM to compare all three.\n",
    "- Try adding 1 or two more layers\n",
    "- Increase the hidden layer size\n",
    "- Changing the learning rate\n",
    "\n",
    "**TODO:** Try changing the RNN type and hyperparameters. Record your results."
   ]
  },
  {
   "cell_type": "code",
   "execution_count": null,
   "metadata": {
    "id": "Ft61Qp9moKGk"
   },
   "outputs": [],
   "source": []
  },
  {
   "cell_type": "code",
   "execution_count": null,
   "metadata": {
    "id": "M4b0vG3VoKD-"
   },
   "outputs": [],
   "source": []
  },
  {
   "cell_type": "code",
   "execution_count": null,
   "metadata": {
    "id": "oohyAIS8oKBw"
   },
   "outputs": [],
   "source": []
  },
  {
   "cell_type": "code",
   "execution_count": null,
   "metadata": {
    "id": "uDeJAwaild-A"
   },
   "outputs": [],
   "source": []
  }
 ],
 "metadata": {
  "accelerator": "GPU",
  "anaconda-cloud": {},
  "colab": {
   "provenance": []
  },
  "gpuClass": "standard",
  "kernelspec": {
   "display_name": "Python 3 (ipykernel)",
   "language": "python",
   "name": "python3"
  },
  "language_info": {
   "codemirror_mode": {
    "name": "ipython",
    "version": 3
   },
   "file_extension": ".py",
   "mimetype": "text/x-python",
   "name": "python",
   "nbconvert_exporter": "python",
   "pygments_lexer": "ipython3",
   "version": "3.9.9"
  }
 },
 "nbformat": 4,
 "nbformat_minor": 1
}
