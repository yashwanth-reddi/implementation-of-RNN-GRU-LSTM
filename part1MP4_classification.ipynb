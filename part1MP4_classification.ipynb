{
  "cells": [
    {
      "cell_type": "code",
      "source": [
        "!wget --no-check-certificate --content-disposition https://raw.githubusercontent.com/Junting98/language_data/master/language_data.zip\n",
        "\n",
        "!unzip language_data.zip\n",
        "!rm language_data.zip\n",
        "!pip install unidecode"
      ],
      "metadata": {
        "id": "tsEgyjOx5AjE",
        "colab": {
          "base_uri": "https://localhost:8080/"
        },
        "outputId": "7c523690-e4db-4e9c-a332-a2c02a1cb7f2"
      },
      "execution_count": 1,
      "outputs": [
        {
          "output_type": "stream",
          "name": "stdout",
          "text": [
            "--2023-04-06 01:59:49--  https://raw.githubusercontent.com/Junting98/language_data/master/language_data.zip\n",
            "Resolving raw.githubusercontent.com (raw.githubusercontent.com)... 185.199.110.133, 185.199.109.133, 185.199.111.133, ...\n",
            "Connecting to raw.githubusercontent.com (raw.githubusercontent.com)|185.199.110.133|:443... connected.\n",
            "HTTP request sent, awaiting response... 200 OK\n",
            "Length: 25976656 (25M) [application/zip]\n",
            "Saving to: ‘language_data.zip’\n",
            "\n",
            "language_data.zip   100%[===================>]  24.77M   133MB/s    in 0.2s    \n",
            "\n",
            "2023-04-06 02:00:05 (133 MB/s) - ‘language_data.zip’ saved [25976656/25976656]\n",
            "\n",
            "Archive:  language_data.zip\n",
            "   creating: language_data/\n",
            "  inflating: __MACOSX/._language_data  \n",
            "  inflating: language_data/.DS_Store  \n",
            "  inflating: __MACOSX/language_data/._.DS_Store  \n",
            "   creating: language_data/test/\n",
            "  inflating: __MACOSX/language_data/._test  \n",
            "  inflating: language_data/kaggle_rnn_language_classification_test.txt  \n",
            "  inflating: __MACOSX/language_data/._kaggle_rnn_language_classification_test.txt  \n",
            "   creating: language_data/train/\n",
            "  inflating: __MACOSX/language_data/._train  \n",
            "  inflating: language_data/shakespeare.txt  \n",
            "  inflating: __MACOSX/language_data/._shakespeare.txt  \n",
            "  inflating: language_data/test/portuguese_test.txt  \n",
            "  inflating: __MACOSX/language_data/test/._portuguese_test.txt  \n",
            "  inflating: language_data/test/maori_test.txt  \n",
            "  inflating: __MACOSX/language_data/test/._maori_test.txt  \n",
            "  inflating: language_data/test/german_test.txt  \n",
            "  inflating: __MACOSX/language_data/test/._german_test.txt  \n",
            "  inflating: language_data/test/lithuanian_test.txt  \n",
            "  inflating: __MACOSX/language_data/test/._lithuanian_test.txt  \n",
            "  inflating: language_data/test/danish_test.txt  \n",
            "  inflating: __MACOSX/language_data/test/._danish_test.txt  \n",
            "  inflating: language_data/test/hungarian_test.txt  \n",
            "  inflating: __MACOSX/language_data/test/._hungarian_test.txt  \n",
            "  inflating: language_data/test/norwegian_test.txt  \n",
            "  inflating: __MACOSX/language_data/test/._norwegian_test.txt  \n",
            "  inflating: language_data/test/italian_test.txt  \n",
            "  inflating: __MACOSX/language_data/test/._italian_test.txt  \n",
            "  inflating: language_data/test/romanian_test.txt  \n",
            "  inflating: __MACOSX/language_data/test/._romanian_test.txt  \n",
            "  inflating: language_data/test/spanish_test.txt  \n",
            "  inflating: __MACOSX/language_data/test/._spanish_test.txt  \n",
            "  inflating: language_data/test/english_test.txt  \n",
            "  inflating: __MACOSX/language_data/test/._english_test.txt  \n",
            "  inflating: language_data/test/finnish_test.txt  \n",
            "  inflating: __MACOSX/language_data/test/._finnish_test.txt  \n",
            "  inflating: language_data/test/vietnamese_test.txt  \n",
            "  inflating: __MACOSX/language_data/test/._vietnamese_test.txt  \n",
            "  inflating: language_data/test/xhosa_test.txt  \n",
            "  inflating: __MACOSX/language_data/test/._xhosa_test.txt  \n",
            "  inflating: language_data/test/czech_test.txt  \n",
            "  inflating: __MACOSX/language_data/test/._czech_test.txt  \n",
            "  inflating: language_data/test/swedish_test.txt  \n",
            "  inflating: __MACOSX/language_data/test/._swedish_test.txt  \n",
            "  inflating: language_data/test/esperanto_test.txt  \n",
            "  inflating: __MACOSX/language_data/test/._esperanto_test.txt  \n",
            "  inflating: language_data/test/albanian_test.txt  \n",
            "  inflating: __MACOSX/language_data/test/._albanian_test.txt  \n",
            "  inflating: language_data/test/french_test.txt  \n",
            "  inflating: __MACOSX/language_data/test/._french_test.txt  \n",
            "  inflating: language_data/test/turkish_test.txt  \n",
            "  inflating: __MACOSX/language_data/test/._turkish_test.txt  \n",
            "  inflating: language_data/train/english_train.txt  \n",
            "  inflating: __MACOSX/language_data/train/._english_train.txt  \n",
            "  inflating: language_data/train/esperanto_train.txt  \n",
            "  inflating: __MACOSX/language_data/train/._esperanto_train.txt  \n",
            "  inflating: language_data/train/albanian_train.txt  \n",
            "  inflating: __MACOSX/language_data/train/._albanian_train.txt  \n",
            "  inflating: language_data/train/finnish_train.txt  \n",
            "  inflating: __MACOSX/language_data/train/._finnish_train.txt  \n",
            "  inflating: language_data/train/spanish_train.txt  \n",
            "  inflating: __MACOSX/language_data/train/._spanish_train.txt  \n",
            "  inflating: language_data/train/italian_train.txt  \n",
            "  inflating: __MACOSX/language_data/train/._italian_train.txt  \n",
            "  inflating: language_data/train/lithuanian_train.txt  \n",
            "  inflating: __MACOSX/language_data/train/._lithuanian_train.txt  \n",
            "  inflating: language_data/train/french_train.txt  \n",
            "  inflating: __MACOSX/language_data/train/._french_train.txt  \n",
            "  inflating: language_data/train/maori_train.txt  \n",
            "  inflating: __MACOSX/language_data/train/._maori_train.txt  \n",
            "  inflating: language_data/train/romanian_train.txt  \n",
            "  inflating: __MACOSX/language_data/train/._romanian_train.txt  \n",
            "  inflating: language_data/train/german_train.txt  \n",
            "  inflating: __MACOSX/language_data/train/._german_train.txt  \n",
            "  inflating: language_data/train/portuguese_train.txt  \n",
            "  inflating: __MACOSX/language_data/train/._portuguese_train.txt  \n",
            "  inflating: language_data/train/turkish_train.txt  \n",
            "  inflating: __MACOSX/language_data/train/._turkish_train.txt  \n",
            "  inflating: language_data/train/swedish_train.txt  \n",
            "  inflating: __MACOSX/language_data/train/._swedish_train.txt  \n",
            "  inflating: language_data/train/hungarian_train.txt  \n",
            "  inflating: __MACOSX/language_data/train/._hungarian_train.txt  \n",
            "  inflating: language_data/train/czech_train.txt  \n",
            "  inflating: __MACOSX/language_data/train/._czech_train.txt  \n",
            "  inflating: language_data/train/vietnamese_train.txt  \n",
            "  inflating: __MACOSX/language_data/train/._vietnamese_train.txt  \n",
            "  inflating: language_data/train/xhosa_train.txt  \n",
            "  inflating: __MACOSX/language_data/train/._xhosa_train.txt  \n",
            "  inflating: language_data/train/danish_train.txt  \n",
            "  inflating: __MACOSX/language_data/train/._danish_train.txt  \n",
            "  inflating: language_data/train/norwegian_train.txt  \n",
            "  inflating: __MACOSX/language_data/train/._norwegian_train.txt  \n",
            "Looking in indexes: https://pypi.org/simple, https://us-python.pkg.dev/colab-wheels/public/simple/\n",
            "Collecting unidecode\n",
            "  Downloading Unidecode-1.3.6-py3-none-any.whl (235 kB)\n",
            "\u001b[2K     \u001b[90m━━━━━━━━━━━━━━━━━━━━━━━━━━━━━━━━━━━━━━━\u001b[0m \u001b[32m235.9/235.9 KB\u001b[0m \u001b[31m5.1 MB/s\u001b[0m eta \u001b[36m0:00:00\u001b[0m\n",
            "\u001b[?25hInstalling collected packages: unidecode\n",
            "Successfully installed unidecode-1.3.6\n"
          ]
        }
      ]
    },
    {
      "cell_type": "code",
      "source": [
        "# https://github.com/spro/char-rnn.pytorch\n",
        "\n",
        "import unidecode\n",
        "import string\n",
        "import random\n",
        "import time\n",
        "import math\n",
        "import torch\n",
        "\n",
        "\n",
        "all_characters = string.printable\n",
        "n_characters = len(all_characters)\n",
        "\n",
        "def read_file(filename):\n",
        "    file = unidecode.unidecode(open(filename).read())\n",
        "    return file, len(file)\n",
        "\n",
        "# Turning a string into a tensor\n",
        "\n",
        "def char_tensor(string):\n",
        "    tensor = torch.zeros(len(string), requires_grad=True).long()\n",
        "    for c in range(len(string)):\n",
        "        try:\n",
        "            tensor[c] = all_characters.index(string[c])\n",
        "        except:\n",
        "            continue\n",
        "    return tensor\n",
        "\n",
        "# Readable time elapsed\n",
        "\n",
        "def time_since(since):\n",
        "    s = time.time() - since\n",
        "    m = math.floor(s / 60)\n",
        "    s -= m * 60\n",
        "    return '%dm %ds' % (m, s)\n",
        "\n"
      ],
      "metadata": {
        "id": "MZSylIPm5V6X"
      },
      "execution_count": 2,
      "outputs": []
    },
    {
      "cell_type": "code",
      "execution_count": 3,
      "source": [
        "import os\n",
        "import time\n",
        "import math\n",
        "import glob\n",
        "import string\n",
        "import random \n",
        "\n",
        "import torch\n",
        "import torch.nn as nn\n",
        "\n",
        "# from rnn.helpers import time_since\n",
        "\n",
        "%matplotlib inline"
      ],
      "outputs": [],
      "metadata": {
        "collapsed": true,
        "id": "L4YZN6Lx4_-M"
      }
    },
    {
      "cell_type": "code",
      "execution_count": 4,
      "source": [
        "\n",
        "device = torch.device(\"cuda:0\" if torch.cuda.is_available() else \"cpu\")"
      ],
      "outputs": [],
      "metadata": {
        "collapsed": true,
        "id": "oHKHCliT4_-N"
      }
    },
    {
      "cell_type": "markdown",
      "source": [
        "# Language recognition with an RNN\n",
        "\n",
        "If you've ever used an online translator you've probably seen a feature that automatically detects the input language. While this might be easy to do if you input unicode characters that are unique to one or a small group of languages (like \"你好\" or \"γεια σας\"), this problem is more challenging if the input only uses the available ASCII characters. In this case, something like \"těší mě\" would beome \"tesi me\" in the ascii form. This is a more challenging problem in which the language must be recognized purely by the pattern of characters rather than unique unicode characters.\n",
        "\n",
        "We will train an RNN to solve this problem for a small set of languages thta can be converted to romanized ASCII form. For training data it would be ideal to have a large and varied dataset in different language styles. However, it is easy to find copies of the Bible which is a large text translated to different languages but in the same easily parsable format, so we will use 20 different copies of the Bible as training data. Using the same book for all of the different languages will hopefully prevent minor overfitting that might arise if we used different books for each language (fitting to common characteristics of the individual books rather than the language)."
      ],
      "metadata": {
        "id": "2WSx4DRe4_-N"
      }
    },
    {
      "cell_type": "code",
      "execution_count": 5,
      "source": [
        "from unidecode import unidecode as unicodeToAscii\n",
        "\n",
        "all_characters = string.printable\n",
        "n_letters = len(all_characters)\n",
        "\n",
        "print(unicodeToAscii('těší mě'))"
      ],
      "outputs": [
        {
          "output_type": "stream",
          "name": "stdout",
          "text": [
            "tesi me\n"
          ]
        }
      ],
      "metadata": {
        "collapsed": true,
        "colab": {
          "base_uri": "https://localhost:8080/"
        },
        "id": "SZsonk5h4_-V",
        "outputId": "3b2bd3b3-62e2-4911-d176-29886d8ac9fb"
      }
    },
    {
      "cell_type": "code",
      "execution_count": 6,
      "source": [
        "# Read a file and split into lines\n",
        "def readFile(filename):\n",
        "    data = open(filename, encoding='utf-8').read().strip()\n",
        "    return unicodeToAscii(data)\n",
        "\n",
        "def get_category_data(data_path):\n",
        "    # Build the category_data dictionary, a list of names per language\n",
        "    category_data = {}\n",
        "    all_categories = []\n",
        "    for filename in glob.glob(data_path):\n",
        "        category = os.path.splitext(os.path.basename(filename))[0].split('_')[0]\n",
        "        all_categories.append(category)\n",
        "        data = readFile(filename)\n",
        "        category_data[category] = data\n",
        "    \n",
        "    return category_data, all_categories"
      ],
      "outputs": [],
      "metadata": {
        "collapsed": true,
        "id": "SdWt6VIu4_-V"
      }
    },
    {
      "cell_type": "markdown",
      "source": [
        "The original text is split into two parts, train and test, so that we can make sure that the model is not simply memorizing the train data."
      ],
      "metadata": {
        "id": "GgOpC-OK4_-W"
      }
    },
    {
      "cell_type": "code",
      "execution_count": 7,
      "source": [
        "train_data_path = 'language_data/train/*_train.txt'\n",
        "test_data_path = 'language_data/test/*_test.txt'\n",
        "\n",
        "train_category_data, all_categories = get_category_data(train_data_path)\n",
        "test_category_data, test_all_categories = get_category_data(test_data_path)\n",
        "\n",
        "n_languages = len(all_categories)\n",
        "\n",
        "print(len(all_categories))\n",
        "print(all_categories)"
      ],
      "outputs": [
        {
          "output_type": "stream",
          "name": "stdout",
          "text": [
            "20\n",
            "['romanian', 'danish', 'maori', 'esperanto', 'vietnamese', 'swedish', 'hungarian', 'english', 'finnish', 'french', 'norwegian', 'italian', 'portuguese', 'spanish', 'lithuanian', 'turkish', 'xhosa', 'czech', 'albanian', 'german']\n"
          ]
        }
      ],
      "metadata": {
        "collapsed": true,
        "colab": {
          "base_uri": "https://localhost:8080/"
        },
        "id": "hc8PGwcY4_-W",
        "outputId": "02085706-6c26-4570-ca00-0c22dac3b9ac"
      }
    },
    {
      "cell_type": "markdown",
      "source": [
        "# Data processing"
      ],
      "metadata": {
        "id": "QA-cLgp94_-W"
      }
    },
    {
      "cell_type": "code",
      "execution_count": 8,
      "source": [
        "def categoryFromOutput(output):\n",
        "    top_n, top_i = output.topk(1, dim=1)\n",
        "    category_i = top_i[:, 0]\n",
        "    return category_i\n",
        "\n",
        "# Turn string into long tensor\n",
        "def stringToTensor(string):\n",
        "    tensor = torch.zeros(len(string), requires_grad=True).long()\n",
        "    for c in range(len(string)):\n",
        "        tensor[c] = all_characters.index(string[c])\n",
        "    return tensor\n",
        "\n",
        "def load_random_batch(text, chunk_len, batch_size):\n",
        "    input_data = torch.zeros(batch_size, chunk_len).long().to(device)\n",
        "    target = torch.zeros(batch_size, 1).long().to(device)\n",
        "    input_text = []\n",
        "    for i in range(batch_size):\n",
        "        category = all_categories[random.randint(0, len(all_categories) - 1)]\n",
        "        line_start = random.randint(0, len(text[category])-chunk_len)\n",
        "        category_tensor = torch.tensor([all_categories.index(category)], dtype=torch.long)\n",
        "        line = text[category][line_start:line_start+chunk_len]\n",
        "        input_text.append(line)\n",
        "        input_data[i] = stringToTensor(line)\n",
        "        target[i] = category_tensor\n",
        "\n",
        "    return input_data,target, input_text"
      ],
      "outputs": [],
      "metadata": {
        "collapsed": true,
        "id": "zNv9I-Xk4_-W"
      }
    },
    {
      "cell_type": "markdown",
      "source": [
        "Implement Model\n",
        "====================\n",
        "\n",
        "For this classification task, we can use the same model we implement for the generation task which is located in `rnn/model.py`. See the `MP4_generation.ipynb` notebook for more instructions. In this case each output vector of our RNN will have the dimension of the number of possible languages (i.e. `n_languages`). We will use this vector to predict a distribution over the languages.\n",
        "\n",
        "In the generation task, we used the output of the RNN at every time step to predict the next letter and our loss included the output from each of these predictions. However, in this task we use the output of the RNN at the end of the sequence to predict the language, so our loss function will use only the predicted output from the last time step.\n",
        "\n"
      ],
      "metadata": {
        "id": "A9eG6A1Q4_-W"
      }
    },
    {
      "cell_type": "markdown",
      "source": [
        "# Train RNN"
      ],
      "metadata": {
        "id": "2nPzXCY_4_-X"
      }
    },
    {
      "cell_type": "code",
      "source": [
        "chunk_len = 25\n",
        "\n",
        "BATCH_SIZE = 100\n",
        "n_epochs = 2000\n",
        "hidden_size = 15\n",
        "n_layers = 2\n",
        "learning_rate = 0.01\n",
        "model_type = 'lstm'\n",
        "\n",
        "def evaluate(rnn, data_tensor, seq_len=chunk_len, batch_size=BATCH_SIZE):\n",
        "    with torch.no_grad():\n",
        "        data_tensor = data_tensor.to(device)\n",
        "        hidden = rnn.init_hidden(batch_size, device=device)\n",
        "        for i in range(seq_len):\n",
        "            output, hidden = rnn(data_tensor[:,i], hidden)\n",
        "\n",
        "        return output\n",
        "    \n",
        "def eval_test(rnn, category_tensor, data_tensor):\n",
        "    with torch.no_grad():\n",
        "        output = evaluate(rnn, data_tensor)\n",
        "        loss = criterion(output, category_tensor.squeeze())\n",
        "        return output, loss.item()"
      ],
      "metadata": {
        "id": "mQ8jVwTAZx-1"
      },
      "execution_count": 9,
      "outputs": []
    },
    {
      "cell_type": "code",
      "source": [
        "import torch\n",
        "import torch.nn as nn\n",
        "\n",
        "class RNN(nn.Module):\n",
        "    def __init__(self, input_size, hidden_size, output_size, model_type=\"rnn\", n_layers=2):\n",
        "        super(RNN, self).__init__()\n",
        "\n",
        "        self.model_type = model_type\n",
        "        self.input_size = input_size\n",
        "        self.hidden_size = hidden_size\n",
        "        self.output_size = output_size\n",
        "        self.n_layers = n_layers\n",
        "\n",
        "        self.embedding = nn.Embedding(input_size, hidden_size)\n",
        "\n",
        "        self.linear = nn.Linear(hidden_size, output_size)\n",
        "\n",
        "        self.rnn = nn.RNN(hidden_size, hidden_size, n_layers)\n",
        "        self.lstm = nn.LSTM(hidden_size, hidden_size, n_layers)\n",
        "        self.gru = nn.GRU(hidden_size, hidden_size, n_layers)\n",
        "\n",
        "\n",
        "    def forward(self, input, hidden):\n",
        "\n",
        "        embedded_input = self.embedding(input)\n",
        "\n",
        "        if self.model_type == \"rnn\":\n",
        "          output, hidden = self.rnn(embedded_input.view(self.n_layers,input.size(0),-1), hidden)\n",
        "        elif self.model_type == \"lstm\":\n",
        "          output, hidden = self.lstm(embedded_input.view(self.n_layers,input.size(0),-1), hidden)\n",
        "        elif self.model_type == \"gru\":\n",
        "          output, hidden = self.gru(embedded_input.view(self.n_layers,input.size(0),-1), hidden)\n",
        "\n",
        "        output = self.linear(output)\n",
        "\n",
        "        return output[-1], hidden\n",
        "\n",
        "    def init_hidden(self, batch_size, device=None):\n",
        "      \n",
        "        if self.model_type == \"lstm\":\n",
        "            hidden=(torch.zeros(self.n_layers, batch_size, self.hidden_size, device=device),\n",
        "                    torch.zeros(self.n_layers, batch_size, self.hidden_size, device=device))\n",
        "        else:\n",
        "          hidden = torch.zeros(self.n_layers, batch_size, self.hidden_size, device=device)\n",
        "\n",
        "        return hidden\n"
      ],
      "metadata": {
        "id": "29k7fgXq6Q5C"
      },
      "execution_count": 10,
      "outputs": []
    },
    {
      "cell_type": "code",
      "source": [
        "def train(rnn, target, input , optimizer, criterion):\n",
        "\n",
        "    hidden = rnn.init_hidden(input.size(0), device=device)\n",
        "\n",
        "    rnn.zero_grad()\n",
        "\n",
        "    for i in range(input.size(1)):\n",
        "        output, hidden = rnn(input[:,i], hidden)\n",
        "\n",
        "    loss = criterion(output,target.squeeze())\n",
        "\n",
        "    loss.backward()\n",
        "    optimizer.step()\n",
        "\n",
        "    return output,loss.item()\n",
        "      "
      ],
      "metadata": {
        "id": "KnPfyZ7_hyhv"
      },
      "execution_count": 11,
      "outputs": []
    },
    {
      "cell_type": "code",
      "source": [
        "criterion = nn.CrossEntropyLoss()\n",
        "rnn = RNN(n_letters, hidden_size, n_languages, model_type=model_type,n_layers=1).to(device)"
      ],
      "metadata": {
        "id": "LE0UmKgBT4UY"
      },
      "execution_count": 12,
      "outputs": []
    },
    {
      "cell_type": "markdown",
      "source": [
        "**TODO:** Fill in the train function. You should initialize a hidden layer representation using your RNN's `init_hidden` function, set the model gradients to zero, and loop over each time step (character) in the input tensor. For each time step compute the output of the of the RNN and the next hidden layer representation. The cross entropy loss should be computed over the last RNN output scores from the end of the sequence and the target classification tensor. Lastly, call backward on the loss and take an optimizer step."
      ],
      "metadata": {
        "id": "rOfzG7U24_-X"
      }
    },
    {
      "cell_type": "code",
      "execution_count": 13,
      "source": [
        "n_iters = 6000 #2000 #100000\n",
        "print_every = 200\n",
        "plot_every = 200\n",
        "\n",
        "# Keep track of losses for plotting\n",
        "current_loss = 0\n",
        "current_test_loss = 0\n",
        "all_losses = []\n",
        "all_test_losses = []\n",
        "\n",
        "start = time.time()\n",
        "\n",
        "optimizer = torch.optim.Adam(rnn.parameters(), lr=learning_rate)\n",
        "\n",
        "number_correct = 0\n",
        "for iter in range(1, n_iters + 1):\n",
        "    input_data, target_category, text_data = load_random_batch(train_category_data, chunk_len, BATCH_SIZE)\n",
        "    output, loss = train(rnn, target_category, input_data, optimizer, criterion)\n",
        "    current_loss += loss\n",
        "    \n",
        "    _, test_loss = eval_test(rnn, target_category, input_data)\n",
        "    current_test_loss += test_loss\n",
        "\n",
        "    output = output.squeeze()\n",
        "    guess_i = categoryFromOutput(output)\n",
        "    number_correct += (target_category.squeeze()==guess_i.squeeze()).long().sum()\n",
        "    \n",
        "    # Print iter number, loss, name and guess\n",
        "    if iter % print_every == 0:\n",
        "        sample_idx = 0\n",
        "        guess = all_categories[guess_i[sample_idx]]\n",
        "        \n",
        "        category = all_categories[int(target_category[sample_idx])]\n",
        "        \n",
        "        correct = '✓' if guess == category else '✗ (%s)' % category\n",
        "        print('%d %d%% (%s) %.4f %.4f %s / %s %s' % (iter, iter / n_iters * 100, time_since(start), loss, test_loss, text_data[sample_idx], guess, correct))\n",
        "        print('Train accuracy: {}'.format(float(number_correct)/float(print_every*BATCH_SIZE)))\n",
        "        number_correct = 0\n",
        "    \n",
        "    # Add current loss avg to list of losses\n",
        "    if iter % plot_every == 0:\n",
        "        all_losses.append(current_loss / plot_every)\n",
        "        current_loss = 0\n",
        "        all_test_losses.append(current_test_loss / plot_every)\n",
        "        current_test_loss = 0"
      ],
      "outputs": [
        {
          "output_type": "stream",
          "name": "stdout",
          "text": [
            "200 3% (0m 8s) 1.6671 1.6406 oi viela: \"Ihmisen Poika  / esperanto ✗ (finnish)\n",
            "Train accuracy: 0.2519\n",
            "400 6% (0m 15s) 1.2817 1.2598 ed och tillbedja den gyll / swedish ✓\n",
            "Train accuracy: 0.48545\n",
            "600 10% (0m 23s) 1.1704 1.1417 hambi kwawo ukuba uKristu / xhosa ✓\n",
            "Train accuracy: 0.58015\n",
            "800 13% (0m 30s) 1.1299 1.0843 . Musa onu suya atinca su / xhosa ✗ (turkish)\n",
            "Train accuracy: 0.62365\n",
            "1000 16% (0m 38s) 0.8915 0.8778 liu siandien daryti savo  / lithuanian ✓\n",
            "Train accuracy: 0.6505\n",
            "1200 20% (0m 47s) 1.1207 1.0983 ti, y de tus casas, y de  / spanish ✓\n",
            "Train accuracy: 0.67005\n",
            "1400 23% (0m 54s) 1.0048 0.9638 skal fa Overflod; men den / swedish ✗ (danish)\n",
            "Train accuracy: 0.68545\n",
            "1600 26% (1m 1s) 0.6989 0.6877 in, sizden odunc isteyeni / turkish ✓\n",
            "Train accuracy: 0.68915\n",
            "1800 30% (1m 9s) 0.8669 0.8122  ka tohu tera pea te Atua / maori ✓\n",
            "Train accuracy: 0.69805\n",
            "2000 33% (1m 16s) 0.7950 0.7819 i oggi dalla faccia di qu / italian ✓\n",
            "Train accuracy: 0.7007\n",
            "2200 36% (1m 24s) 0.7084 0.6877 nd wie den Sand am Rande  / german ✓\n",
            "Train accuracy: 0.71735\n",
            "2400 40% (1m 31s) 0.7481 0.7261 a tionde dagen i denna ma / swedish ✓\n",
            "Train accuracy: 0.72045\n",
            "2600 43% (1m 39s) 0.8170 0.7950 nuostatus ir sprendimus.  / lithuanian ✓\n",
            "Train accuracy: 0.72655\n",
            "2800 46% (1m 46s) 0.6813 0.6371 ng cua dao Co-ret, huong  / vietnamese ✓\n",
            "Train accuracy: 0.7201\n",
            "3000 50% (1m 53s) 0.6774 0.6442 anielit dhe tha: \"Ne te v / albanian ✓\n",
            "Train accuracy: 0.72845\n",
            "3200 53% (2m 1s) 0.7749 0.7409 benjaminitt; han var en m / norwegian ✓\n",
            "Train accuracy: 0.73695\n",
            "3400 56% (2m 8s) 0.7443 0.7202 ne, ottanta concubine, e  / romanian ✗ (italian)\n",
            "Train accuracy: 0.7314\n",
            "3600 60% (2m 16s) 0.6504 0.6117 uarahi, a ka whakamotitia / maori ✓\n",
            "Train accuracy: 0.7373\n",
            "3800 63% (2m 23s) 0.8646 0.8420 , til makken: Du er min m / norwegian ✓\n",
            "Train accuracy: 0.7413\n",
            "4000 66% (2m 30s) 0.7050 0.6571  panels thereof, he grave / english ✓\n",
            "Train accuracy: 0.7322\n",
            "4200 70% (2m 38s) 0.8451 0.7862 Saledes far bade hele Isr / danish ✓\n",
            "Train accuracy: 0.74495\n",
            "4400 73% (2m 45s) 0.8228 0.7938 uera, ki tona muera, a re / maori ✓\n",
            "Train accuracy: 0.75005\n",
            "4600 76% (2m 53s) 0.6615 0.6342 oda la tierra: entonces e / spanish ✓\n",
            "Train accuracy: 0.7556\n",
            "4800 80% (3m 1s) 0.6642 0.6351 ugar alto. E quando Deus  / portuguese ✓\n",
            "Train accuracy: 0.75165\n",
            "5000 83% (3m 8s) 0.6378 0.6133  And this house was finis / english ✓\n",
            "Train accuracy: 0.7585\n",
            "5200 86% (3m 16s) 0.6629 0.6290 unku gecmis sikintilar un / turkish ✓\n",
            "Train accuracy: 0.7573\n",
            "5400 90% (3m 23s) 0.6303 0.6124 iena po septinto sabatove / lithuanian ✓\n",
            "Train accuracy: 0.7605\n",
            "5600 93% (3m 30s) 0.7631 0.7279 de din darurile voastre,  / romanian ✓\n",
            "Train accuracy: 0.7615\n",
            "5800 96% (3m 38s) 0.7239 0.6972  nei e Ihowa ki a ratou.  / maori ✓\n",
            "Train accuracy: 0.76135\n",
            "6000 100% (3m 45s) 0.5988 0.5855 jatkaa matkaa siihen maah / finnish ✓\n",
            "Train accuracy: 0.76695\n"
          ]
        }
      ],
      "metadata": {
        "collapsed": true,
        "scrolled": true,
        "id": "hcd4197w4_-X",
        "colab": {
          "base_uri": "https://localhost:8080/"
        },
        "outputId": "5a690995-bf7b-4dc1-be9e-1b049a062094"
      }
    },
    {
      "cell_type": "markdown",
      "source": [
        "Plot loss functions\n",
        "--------------------\n",
        "\n"
      ],
      "metadata": {
        "id": "488aLZlK4_-Y"
      }
    },
    {
      "cell_type": "code",
      "execution_count": 14,
      "source": [
        "import matplotlib.pyplot as plt\n",
        "import matplotlib.ticker as ticker\n",
        "\n",
        "plt.figure()\n",
        "plt.plot(all_losses, color='b')\n",
        "plt.plot(all_test_losses, color='r')"
      ],
      "outputs": [
        {
          "output_type": "execute_result",
          "data": {
            "text/plain": [
              "[<matplotlib.lines.Line2D at 0x7f877053a5b0>]"
            ]
          },
          "metadata": {},
          "execution_count": 14
        },
        {
          "output_type": "display_data",
          "data": {
            "text/plain": [
              "<Figure size 640x480 with 1 Axes>"
            ],
            "image/png": "[encoded data removed]"
          },
          "metadata": {}
        }
      ],
      "metadata": {
        "collapsed": true,
        "scrolled": true,
        "id": "wO-BauBn4_-Y",
        "colab": {
          "base_uri": "https://localhost:8080/",
          "height": 448
        },
        "outputId": "cac0c07a-11ac-4572-88e3-d9b7a87f49f3"
      }
    },
    {
      "cell_type": "markdown",
      "source": [
        "Evaluate results\n",
        "-------------------\n",
        "\n",
        "We now vizualize the performance of our model by creating a confusion matrix. The ground truth languages of samples are represented by rows in the matrix while the predicted languages are represented by columns.\n",
        "\n",
        "In this evaluation we consider sequences of variable sizes rather than the fixed length sequences we used for training."
      ],
      "metadata": {
        "id": "lHeW2_nn4_-Y"
      }
    },
    {
      "cell_type": "code",
      "execution_count": 15,
      "source": [
        "eval_batch_size = 1  # needs to be set to 1 for evaluating different sequence lengths\n",
        "\n",
        "# Keep track of correct guesses in a confusion matrixa\n",
        "confusion = torch.zeros(n_languages, n_languages)\n",
        "n_confusion = 1000\n",
        "num_correct = 0\n",
        "total = 0\n",
        "\n",
        "for i in range(n_confusion):\n",
        "    eval_chunk_len = random.randint(10, 50) # in evaluation we will look at sequences of variable sizes\n",
        "    input_data, target_category, text_data = load_random_batch(test_category_data, chunk_len=eval_chunk_len, batch_size=eval_batch_size)\n",
        "    output = evaluate(rnn, input_data, seq_len=eval_chunk_len, batch_size=eval_batch_size)\n",
        "    \n",
        "    guess_i = categoryFromOutput(output)\n",
        "    category_i = [int(target_category[idx]) for idx in range(len(target_category))]\n",
        "    for j in range(eval_batch_size):\n",
        "        category = all_categories[category_i[j]] \n",
        "        confusion[category_i[j]][guess_i[j]] += 1\n",
        "        num_correct += int(guess_i[j]==category_i[j])\n",
        "        total += 1\n",
        "\n",
        "print('Test accuracy: ', float(num_correct)/float(n_confusion*eval_batch_size))\n",
        "\n",
        "# Normalize by dividing every row by its sum\n",
        "for i in range(n_languages):\n",
        "    confusion[i] = confusion[i] / confusion[i].sum()\n",
        "\n",
        "# Set up plot\n",
        "fig = plt.figure()\n",
        "ax = fig.add_subplot(111)\n",
        "cax = ax.matshow(confusion.numpy())\n",
        "fig.colorbar(cax)\n",
        "\n",
        "# Set up axes\n",
        "ax.set_xticklabels([''] + all_categories, rotation=90)\n",
        "ax.set_yticklabels([''] + all_categories)\n",
        "\n",
        "# Force label at every tick\n",
        "ax.xaxis.set_major_locator(ticker.MultipleLocator(1))\n",
        "ax.yaxis.set_major_locator(ticker.MultipleLocator(1))\n",
        "\n",
        "plt.show()"
      ],
      "outputs": [
        {
          "output_type": "stream",
          "name": "stdout",
          "text": [
            "Test accuracy:  0.742\n"
          ]
        },
        {
          "output_type": "stream",
          "name": "stderr",
          "text": [
            "<ipython-input-15-c6d4ff3a1b80>:35: UserWarning: FixedFormatter should only be used together with FixedLocator\n",
            "  ax.set_xticklabels([''] + all_categories, rotation=90)\n",
            "<ipython-input-15-c6d4ff3a1b80>:36: UserWarning: FixedFormatter should only be used together with FixedLocator\n",
            "  ax.set_yticklabels([''] + all_categories)\n"
          ]
        },
        {
          "output_type": "display_data",
          "data": {
            "text/plain": [
              "<Figure size 640x480 with 2 Axes>"
            ],
            "image/png": "[encoded data removed]"
          },
          "metadata": {}
        }
      ],
      "metadata": {
        "collapsed": true,
        "id": "v_uJbOWJ4_-Y",
        "colab": {
          "base_uri": "https://localhost:8080/",
          "height": 594
        },
        "outputId": "c41ccbc6-f48e-4438-f4ba-7122b13924a6"
      }
    },
    {
      "cell_type": "markdown",
      "source": [
        "You can pick out bright spots off the main axis that show which\n",
        "languages it guesses incorrectly.\n",
        "\n",
        "\n"
      ],
      "metadata": {
        "id": "-3fTLWYV4_-Y"
      }
    },
    {
      "cell_type": "markdown",
      "source": [
        "Run on User Input\n",
        "---------------------\n",
        "\n",
        "Now you can test your model on your own input. \n"
      ],
      "metadata": {
        "id": "R8stxWkQ4_-Y"
      }
    },
    {
      "cell_type": "code",
      "execution_count": 16,
      "source": [
        "def predict(input_line, n_predictions=5):\n",
        "    print('\\n> %s' % input_line)\n",
        "    with torch.no_grad():\n",
        "        input_data = stringToTensor(input_line).long().unsqueeze(0).to(device)\n",
        "        output = evaluate(rnn, input_data, seq_len=len(input_line), batch_size=1)\n",
        "\n",
        "    # Get top N categories\n",
        "    topv, topi = output.topk(n_predictions, dim=1)\n",
        "    predictions = []\n",
        "\n",
        "    for i in range(n_predictions):\n",
        "        topv.shape\n",
        "        topi.shape\n",
        "        value = topv[0][i].item()\n",
        "        category_index = topi[0][i].item()\n",
        "        print('(%.2f) %s' % (value, all_categories[category_index]))\n",
        "        predictions.append([value, all_categories[category_index]])\n",
        "\n",
        "predict('This is a phrase to test the model on user input')\n"
      ],
      "outputs": [
        {
          "output_type": "stream",
          "name": "stdout",
          "text": [
            "\n",
            "> This is a phrase to test the model on user input\n",
            "(5.10) english\n",
            "(4.36) albanian\n",
            "(3.41) german\n",
            "(1.92) norwegian\n",
            "(1.89) swedish\n"
          ]
        }
      ],
      "metadata": {
        "collapsed": true,
        "id": "ac79OXQD4_-Y",
        "colab": {
          "base_uri": "https://localhost:8080/"
        },
        "outputId": "f1c91300-eaee-4ad0-d0c9-11abea66d60d"
      }
    },
    {
      "cell_type": "markdown",
      "source": [
        "# Output Kaggle submission file\n",
        "\n",
        "Once you have found a good set of hyperparameters submit the output of your model on the Kaggle test file."
      ],
      "metadata": {
        "id": "deEtqHey4_-Y"
      }
    },
    {
      "cell_type": "code",
      "execution_count": 17,
      "source": [
        "### DO NOT CHANGE KAGGLE SUBMISSION CODE ####\n",
        "import csv\n",
        "\n",
        "kaggle_test_file_path = 'language_data/kaggle_rnn_language_classification_test.txt'\n",
        "with open(kaggle_test_file_path, 'r') as f:\n",
        "    lines = f.readlines()\n",
        "\n",
        "output_rows = []\n",
        "for i, line in enumerate(lines):\n",
        "    sample = line.rstrip()\n",
        "    sample_chunk_len = len(sample)\n",
        "    input_data = stringToTensor(sample).unsqueeze(0)\n",
        "    output = evaluate(rnn, input_data, seq_len=sample_chunk_len, batch_size=1)\n",
        "    guess_i = categoryFromOutput(output)\n",
        "    output_rows.append((str(i+1), all_categories[guess_i]))\n",
        "\n",
        "submission_file_path = 'kaggle_rnn_submission.csv'\n",
        "with open(submission_file_path, 'w') as f:\n",
        "    output_rows = [('id', 'category')] + output_rows\n",
        "    writer = csv.writer(f)\n",
        "    writer.writerows(output_rows)\n"
      ],
      "outputs": [],
      "metadata": {
        "collapsed": true,
        "id": "Q7gEJLSz4_-Y"
      }
    },
    {
      "cell_type": "code",
      "execution_count": null,
      "source": [],
      "outputs": [],
      "metadata": {
        "collapsed": true,
        "id": "-CE2nwcz4_-Y"
      }
    }
  ],
  "metadata": {
    "kernelspec": {
      "display_name": "Python 3",
      "language": "python",
      "name": "python3"
    },
    "language_info": {
      "codemirror_mode": {
        "name": "ipython",
        "version": 3
      },
      "file_extension": ".py",
      "mimetype": "text/x-python",
      "name": "python",
      "nbconvert_exporter": "python",
      "pygments_lexer": "ipython3",
      "version": "3.6.2"
    },
    "colab": {
      "provenance": []
    },
    "accelerator": "GPU",
    "gpuClass": "standard"
  },
  "nbformat": 4,
  "nbformat_minor": 0
}