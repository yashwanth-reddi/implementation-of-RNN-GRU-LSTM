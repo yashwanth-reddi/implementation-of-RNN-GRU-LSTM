{
 "cells": [
  {
   "cell_type": "code",
   "execution_count": 46,
   "metadata": {
    "id": "Cz9h83GeeD8w"
   },
   "outputs": [],
   "source": [
    "# https://github.com/spro/char-rnn.pytorch\n",
    "\n",
    "import unidecode\n",
    "import string\n",
    "import random\n",
    "import time\n",
    "import math\n",
    "import torch\n",
    "\n",
    "\n",
    "all_characters = string.printable\n",
    "n_characters = len(all_characters)\n",
    "\n",
    "def read_file(filename):\n",
    "    file = unidecode.unidecode(open(filename).read())\n",
    "    return file, len(file)\n",
    "\n",
    "# Turning a string into a tensor\n",
    "\n",
    "def char_tensor(string):\n",
    "    tensor = torch.zeros(len(string), requires_grad=True).long()\n",
    "    for c in range(len(string)):\n",
    "        try:\n",
    "            tensor[c] = all_characters.index(string[c])\n",
    "        except:\n",
    "            continue\n",
    "    return tensor\n",
    "\n",
    "# Readable time elapsed\n",
    "\n",
    "def time_since(since):\n",
    "    s = time.time() - since\n",
    "    m = math.floor(s / 60)\n",
    "    s -= m * 60\n",
    "    return '%dm %ds' % (m, s)\n",
    "\n"
   ]
  },
  {
   "cell_type": "code",
   "execution_count": 47,
   "metadata": {
    "id": "K1MzeENdeHez"
   },
   "outputs": [],
   "source": [
    "# https://github.com/spro/char-rnn.pytorch\n",
    "\n",
    "import torch\n",
    "import os\n",
    "import argparse\n",
    "\n",
    "# from rnn.helpers import *\n",
    "# from rnn.model import *\n",
    "\n",
    "def generate(decoder, prime_str='A', predict_len=100, temperature=0.8, device=None):\n",
    "    hidden = decoder.init_hidden(1, device=device)\n",
    "    prime_input = char_tensor(prime_str).unsqueeze(0).to(device)\n",
    "\n",
    "    predicted = prime_str\n",
    "\n",
    "    # Use priming string to \"build up\" hidden state\n",
    "    for p in range(len(prime_str) - 1):\n",
    "      _, hidden = decoder(prime_input[:,p], hidden)\n",
    "        \n",
    "    inp = prime_input[:,-1]\n",
    "    \n",
    "    for p in range(predict_len):\n",
    "      output, hidden = decoder(inp, hidden)\n",
    "      \n",
    "      # Sample from the network as a multinomial distribution\n",
    "\n",
    "      output_dist = output.data.view(-1).div(temperature).exp()\n",
    "      top_i = torch.multinomial(output_dist, 1)[0]\n",
    "\n",
    "      # Add predicted character to string and use as next input\n",
    "      predicted_char = all_characters[top_i]\n",
    "      predicted += predicted_char\n",
    "      inp = char_tensor(predicted_char).unsqueeze(0).to(device)\n",
    "\n",
    "    return predicted\n"
   ]
  },
  {
   "cell_type": "markdown",
   "metadata": {
    "id": "9Ts1KPw9dvOH"
   },
   "source": [
    "# Generating Text with an RNN"
   ]
  },
  {
   "cell_type": "code",
   "execution_count": 48,
   "metadata": {
    "id": "sSXvCz5VdvOL"
   },
   "outputs": [
    {
     "name": "stdout",
     "output_type": "stream",
     "text": [
      "The autoreload extension is already loaded. To reload it, use:\n",
      "  %reload_ext autoreload\n"
     ]
    }
   ],
   "source": [
    "import unidecode\n",
    "import string\n",
    "import random\n",
    "import re\n",
    "import time\n",
    "\n",
    "import torch\n",
    "import torch.nn as nn\n",
    "\n",
    "%matplotlib inline\n",
    "\n",
    "%load_ext autoreload\n",
    "%autoreload 2"
   ]
  },
  {
   "cell_type": "code",
   "execution_count": 49,
   "metadata": {
    "id": "7tzouekHdvOO"
   },
   "outputs": [],
   "source": [
    "# from rnn.model import RNN\n",
    "# from rnn.helpers import time_since\n",
    "# from rnn.generate import generate"
   ]
  },
  {
   "cell_type": "code",
   "execution_count": 50,
   "metadata": {
    "id": "5lLA0w_GdvOO",
    "scrolled": true
   },
   "outputs": [],
   "source": [
    "device = torch.device(\"cuda:0\" if torch.cuda.is_available() else \"cpu\") "
   ]
  },
  {
   "cell_type": "markdown",
   "metadata": {
    "id": "9M0QlqIIdvOO"
   },
   "source": [
    "## Data Processing\n",
    "\n",
    "The file we are using is a plain text file. We turn any potential unicode characters into plain ASCII by using the `unidecode` package (which you can install via `pip` or `conda`)."
   ]
  },
  {
   "cell_type": "code",
   "execution_count": 51,
   "metadata": {
    "colab": {
     "base_uri": "https://localhost:8080/"
    },
    "id": "b_KW7yEddvOP",
    "outputId": "7afef722-d179-48cf-b2ff-306947dd33dd"
   },
   "outputs": [
    {
     "name": "stdout",
     "output_type": "stream",
     "text": [
      "file_len = 139636\n",
      "train len:  125672\n",
      "test len:  13964\n"
     ]
    }
   ],
   "source": [
    "all_characters = string.printable\n",
    "n_characters = len(all_characters)\n",
    "\n",
    "file_path = 'travel.txt'\n",
    "file = unidecode.unidecode(open(file_path).read())\n",
    "file_len = len(file)\n",
    "print('file_len =', file_len)\n",
    "\n",
    "# we will leave the last 1/10th of text as test\n",
    "\n",
    "split = int(0.9*file_len)\n",
    "train_text = file[:split]\n",
    "test_text = file[split:]\n",
    "\n",
    "print('train len: ', len(train_text))\n",
    "print('test len: ', len(test_text))"
   ]
  },
  {
   "cell_type": "code",
   "execution_count": 52,
   "metadata": {
    "colab": {
     "base_uri": "https://localhost:8080/"
    },
    "id": "E00bs3FXdvOP",
    "outputId": "4b30f1c2-d1b8-444b-b752-6d59665e6cad"
   },
   "outputs": [
    {
     "name": "stdout",
     "output_type": "stream",
     "text": [
      "hil.'\n",
      "I was definitely the odd man out.\n",
      "One thing about my couth upbringing helped me out that\n",
      "afternoon. I had always been lectured about not talking with\n",
      "my mouth full. Since Phil and his daughter ke\n"
     ]
    }
   ],
   "source": [
    "chunk_len = 200\n",
    "\n",
    "def random_chunk(text):\n",
    "    start_index = random.randint(0, len(text) - chunk_len)\n",
    "    end_index = start_index + chunk_len + 1\n",
    "    return text[start_index:end_index]\n",
    "\n",
    "print(random_chunk(train_text))"
   ]
  },
  {
   "cell_type": "markdown",
   "metadata": {
    "id": "kUDxnGkGdvOP"
   },
   "source": [
    "### Input and Target data"
   ]
  },
  {
   "cell_type": "markdown",
   "metadata": {
    "id": "1Q0H44jQdvOQ"
   },
   "source": [
    "To make training samples out of the large string of text data, we will be splitting the text into chunks.\n",
    "\n",
    "Each chunk will be turned into a tensor, specifically a `LongTensor` (used for integer values), by looping through the characters of the string and looking up the index of each character in `all_characters`."
   ]
  },
  {
   "cell_type": "code",
   "execution_count": 53,
   "metadata": {
    "id": "MdISwtCLdvOQ"
   },
   "outputs": [],
   "source": [
    "# Turn string into list of longs\n",
    "def char_tensor(string):\n",
    "    tensor = torch.zeros(len(string), requires_grad=True).long()\n",
    "    for c in range(len(string)):\n",
    "        tensor[c] = all_characters.index(string[c])\n",
    "    return tensor"
   ]
  },
  {
   "cell_type": "markdown",
   "metadata": {
    "id": "cqnEonr7dvOQ"
   },
   "source": [
    "The following function loads a batch of input and target tensors for training. Each sample comes from a random chunk of text. A sample input will consist of all characters *except the last*, while the target wil contain all characters *following the first*. For example: if random_chunk='abc', then input='ab' and target='bc'"
   ]
  },
  {
   "cell_type": "code",
   "execution_count": 54,
   "metadata": {
    "id": "RBKeZCf7dvOR"
   },
   "outputs": [],
   "source": [
    "def load_random_batch(text, chunk_len, batch_size):\n",
    "    input_data = torch.zeros(batch_size, chunk_len).long().to(device)\n",
    "    target = torch.zeros(batch_size, chunk_len).long().to(device)\n",
    "    for i in range(batch_size):\n",
    "        start_index = random.randint(0, len(text) - chunk_len - 1)\n",
    "        end_index = start_index + chunk_len + 1\n",
    "        chunk = text[start_index:end_index]\n",
    "        input_data[i] = char_tensor(chunk[:-1])\n",
    "        target[i] = char_tensor(chunk[1:])\n",
    "    return input_data, target"
   ]
  },
  {
   "cell_type": "markdown",
   "metadata": {
    "id": "sMAyEZxQdvOR"
   },
   "source": [
    "# Implement model\n",
    "\n",
    "Your RNN model will take as input the character for step $t_{-1}$ and output a prediction for the next character $t$. The model should consiste of three layers - a linear layer that encodes the input character into an embedded state, an RNN layer (which may itself have multiple layers) that operates on that embedded state and a hidden state, and a decoder layer that outputs the predicted character scores distribution.\n",
    "\n",
    "\n",
    "You must implement your model in the `rnn/model.py` file. You should use a `nn.Embedding` object for the encoding layer, a RNN model like `nn.RNN` or `nn.LSTM`, and a `nn.Linear` layer for the final a predicted character score decoding layer.\n",
    "\n",
    "\n",
    "**TODO:** Implement the model in RNN `rnn/model.py`"
   ]
  },
  {
   "cell_type": "markdown",
   "metadata": {
    "id": "MsGCl4q7dvOS"
   },
   "source": [
    "# Evaluating\n",
    "\n",
    "To evaluate the network we will feed one character at a time, use the outputs of the network as a probability distribution for the next character, and repeat. To start generation we pass a priming string to start building up the hidden state, from which we then generate one character at a time.\n",
    "\n",
    "\n",
    "Note that in the `evaluate` function, every time a prediction is made the outputs are divided by the \"temperature\" argument. Higher temperature values make actions more equally likely giving more \"random\" outputs. Lower temperature values (less than 1) high likelihood options contribute more. A temperature near 0 outputs only the most likely outputs.\n",
    "\n",
    "You may check different temperature values yourself, but we have provided a default which should work well."
   ]
  },
  {
   "cell_type": "code",
   "execution_count": 55,
   "metadata": {
    "id": "mrVOv2z_dvOS"
   },
   "outputs": [],
   "source": [
    "def evaluate(rnn, prime_str='A', predict_len=100, temperature=0.8):\n",
    "    hidden = rnn.init_hidden(1, device=device)\n",
    "    prime_input = char_tensor(prime_str)\n",
    "    predicted = prime_str\n",
    "\n",
    "    # Use priming string to \"build up\" hidden state\n",
    "    for p in range(len(prime_str) - 1):\n",
    "        _, hidden = rnn(prime_input[p].unsqueeze(0).to(device), hidden)\n",
    "    inp = prime_input[-1]\n",
    "    \n",
    "    for p in range(predict_len):\n",
    "        output, hidden = rnn(inp.unsqueeze(0).to(device), hidden)\n",
    "        \n",
    "        # Sample from the network as a multinomial distribution\n",
    "        output_dist = output.data.view(-1).div(temperature).exp()\n",
    "        top_i = torch.multinomial(output_dist, 1)[0]\n",
    "        \n",
    "        # Add predicted character to string and use as next input\n",
    "        predicted_char = all_characters[top_i]\n",
    "        predicted += predicted_char\n",
    "        inp = char_tensor(predicted_char)\n",
    "\n",
    "    return predicted"
   ]
  },
  {
   "cell_type": "code",
   "execution_count": 56,
   "metadata": {
    "id": "frWiYe-hyMo3"
   },
   "outputs": [],
   "source": [
    "import torch\n",
    "import torch.nn as nn\n",
    "\n",
    "class RNN(nn.Module):\n",
    "    def __init__(self, input_size, hidden_size, output_size, model_type=\"rnn\", n_layers=1):\n",
    "        super(RNN, self).__init__()\n",
    "\n",
    "        self.model_type = model_type\n",
    "        self.input_size = input_size\n",
    "        self.hidden_size = hidden_size\n",
    "        self.output_size = output_size\n",
    "        self.n_layers = n_layers\n",
    "\n",
    "        self.embedding = nn.Embedding(input_size, hidden_size)\n",
    "\n",
    "        self.linear = nn.Linear(hidden_size, output_size)\n",
    "        \n",
    "        self.rnn = nn.RNN(hidden_size, hidden_size, n_layers)\n",
    "        self.lstm = nn.LSTM(hidden_size, hidden_size, n_layers)\n",
    "        self.gru = nn.GRU(hidden_size, hidden_size, n_layers)\n",
    "\n",
    "    def forward(self, input, hidden):\n",
    "\n",
    "        embedded_input = self.embedding(input)\n",
    "\n",
    "        if self.model_type == \"rnn\":\n",
    "          output, hidden = self.rnn(embedded_input.view(self.n_layers,input.size(0),-1), hidden)\n",
    "        elif self.model_type == \"lstm\":\n",
    "          output, hidden = self.lstm(embedded_input.view(self.n_layers,input.size(0),-1), hidden)\n",
    "        elif self.model_type == \"gru\":\n",
    "          output, hidden = self.gru(embedded_input.view(self.n_layers,input.size(0),-1), hidden)\n",
    "\n",
    "        output = self.linear(output)\n",
    "\n",
    "        return output, hidden\n",
    "\n",
    "    def init_hidden(self, batch_size, device=None):\n",
    "      \n",
    "        if self.model_type == \"lstm\":\n",
    "            hidden=(torch.zeros(self.n_layers, batch_size, self.hidden_size, device=device),\n",
    "                    torch.zeros(self.n_layers, batch_size, self.hidden_size, device=device))\n",
    "        else:\n",
    "          hidden = torch.zeros(self.n_layers, batch_size, self.hidden_size, device=device)\n",
    "\n",
    "        return hidden\n"
   ]
  },
  {
   "cell_type": "markdown",
   "metadata": {
    "id": "f0PH6rmSdvOT"
   },
   "source": [
    "# Train RNN"
   ]
  },
  {
   "cell_type": "code",
   "execution_count": 57,
   "metadata": {
    "id": "bPhQxG6jY7kk"
   },
   "outputs": [],
   "source": [
    "def train(rnn, input, target, optimizer, criterion):\n",
    "  \n",
    "  stringlength,batch_size,loss  = input.size(1),input.size(0),0\n",
    "  hidden = rnn.init_hidden(batch_size,device)\n",
    "  \n",
    "  rnn.zero_grad()\n",
    "\n",
    "  for i in range(stringlength):\n",
    "    output, hidden = rnn(input[:, i], hidden)\n",
    "\n",
    "    loss += criterion(output.view(batch_size, -1), target[:,i])\n",
    "\n",
    "  loss.backward()\n",
    "  optimizer.step()\n",
    "  sigma_loss = loss.item()\n",
    "  average_loss = sigma_loss/batch_size\n",
    "\n",
    "  return  average_loss\n",
    "\n",
    "\n",
    "def eval_test(rnn, inp, target,criterion,batch_size=100):\n",
    "    with torch.no_grad():\n",
    "        hidden = rnn.init_hidden(batch_size, device=device)\n",
    "        loss = 0\n",
    "        for c in range(chunk_len):\n",
    "            output, hidden = rnn(inp[:,c], hidden)\n",
    "            loss += criterion(output.view(batch_size, -1), target[:,c])\n",
    "    \n",
    "    return loss.data.item() / chunk_len"
   ]
  },
  {
   "cell_type": "markdown",
   "metadata": {
    "id": "1wkwmq-qdvOU"
   },
   "source": [
    "### Train function\n",
    "\n",
    "**TODO**: Fill in the train function. You should initialize a hidden layer representation using your RNN's `init_hidden` function, set the model gradients to zero, and loop over each time step (character) in the input tensor. For each time step compute the output of the of the RNN and compute the loss over the output and the corresponding ground truth time step in `target`. The loss should be averaged over all time steps. Lastly, call backward on the averaged loss and take an optimizer step.\n"
   ]
  },
  {
   "cell_type": "code",
   "execution_count": 58,
   "metadata": {
    "id": "dUbUGZKbl6ye"
   },
   "outputs": [],
   "source": [
    "import matplotlib.pyplot as plt\n",
    "import matplotlib.ticker as ticker\n",
    "\n",
    "def complete(batch_size=100,n_epochs=1500,hidden_size = 100,n_layers = 1,learning_rate = 0.01,model_type = 'rnn',print_every = 100,plot_every = 100):\n",
    "\n",
    "  model = RNN(n_characters, hidden_size, n_characters, model_type=model_type, n_layers=n_layers).to(device)\n",
    "\n",
    "  rnn_optimizer = torch.optim.Adam(model.parameters(), lr=learning_rate)\n",
    "  criterion = nn.CrossEntropyLoss()\n",
    "\n",
    "  start = time.time()\n",
    "  all_losses = []\n",
    "  test_losses = []\n",
    "  loss_avg = 0\n",
    "  test_loss_avg = 0\n",
    "\n",
    "  print(\"Training for %d epochs...\" % n_epochs)\n",
    "  for epoch in range(1, n_epochs + 1):\n",
    "      loss = train(model, *load_random_batch(train_text, chunk_len, batch_size), rnn_optimizer, criterion)\n",
    "      loss_avg += loss\n",
    "      \n",
    "      test_loss = eval_test(model, *load_random_batch(test_text, chunk_len, batch_size),criterion)\n",
    "      test_loss_avg += test_loss\n",
    "\n",
    "      if epoch % print_every == 0:\n",
    "          print('[%s (%d %d%%) train loss: %.4f, test_loss: %.4f]' % (time_since(start), epoch, epoch / n_epochs * 100, loss, test_loss))\n",
    "          print(generate(model, 'Wh', 100, device=device), '\\n')\n",
    "\n",
    "      if epoch % plot_every == 0:\n",
    "          print(epoch)\n",
    "          all_losses.append(loss_avg / plot_every)\n",
    "          test_losses.append(test_loss_avg / plot_every)\n",
    "          loss_avg = 0\n",
    "          test_loss_avg = 0\n",
    "  \n",
    "  plt.figure()\n",
    "  plt.plot(all_losses)\n",
    "  plt.plot(test_losses, color='r')\n",
    "\n",
    "  generated_text = evaluate(model, prime_str='Th', predict_len=1000)\n",
    "\n",
    "  print(\"text generation for model type\",model_type,\"   \",generated_text)\n",
    "\n",
    "  return model"
   ]
  },
  {
   "cell_type": "code",
   "execution_count": null,
   "metadata": {
    "id": "qYHc3YKytdZL"
   },
   "outputs": [],
   "source": []
  },
  {
   "cell_type": "code",
   "execution_count": 59,
   "metadata": {
    "id": "AY5EW5P3nZFE",
    "outputId": "6f6716ce-651d-4f54-9889-207f9f68d692",
    "scrolled": false
   },
   "outputs": [
    {
     "name": "stdout",
     "output_type": "stream",
     "text": [
      "Training for 1500 epochs...\n",
      "[0m 29s (100 6%) train loss: 3.8715, test_loss: 1.8586]\n",
      "Wher, Shan, 'the said. The his to me?'\n",
      "Rnot and be am guid alle I said, chill! Hes\n",
      "ensterion agoled mi \n",
      "\n",
      "100\n",
      "[0m 59s (200 13%) train loss: 3.5557, test_loss: 1.7350]\n",
      "Whell getider,' I had lost a cortic\n",
      "sir Plion fines and he was name. 'I leat be didn't it and really n \n",
      "\n",
      "200\n",
      "[1m 29s (300 20%) train loss: 3.3360, test_loss: 1.7298]\n",
      "Whole of\n",
      "Cavilied to like you he was the\n",
      "rurard, which on when you're refers way\n",
      "oncely not our was pr \n",
      "\n",
      "300\n",
      "[1m 59s (400 26%) train loss: 3.3182, test_loss: 1.6754]\n",
      "What night with mance visting pilled.\n",
      "'Conchimment to my why slachore even home and we asked, but beca \n",
      "\n",
      "400\n",
      "[2m 29s (500 33%) train loss: 3.1733, test_loss: 1.6870]\n",
      "When now this\n",
      "and '63\n",
      "Epch some namentation his potle, she\n",
      "call what I for sitting things, Oliver, loo \n",
      "\n",
      "500\n",
      "[2m 58s (600 40%) train loss: 3.2120, test_loss: 1.6824]\n",
      "What this comil uppen the ran to mell.'\n",
      "'Don't you sonovare of the chithe I did to go repiridn't this. \n",
      "\n",
      "600\n",
      "[3m 28s (700 46%) train loss: 3.1249, test_loss: 1.6900]\n",
      "When he was love the her a wat's part how pasted that Jenny probably know. I mean, I were would how qu \n",
      "\n",
      "700\n",
      "[3m 58s (800 53%) train loss: 3.1140, test_loss: 1.6976]\n",
      "When she couldn't have on\n",
      "his like solocest out (the tromanclion so 4A2, the Coce reliver in the wasn' \n",
      "\n",
      "800\n",
      "[4m 28s (900 60%) train loss: 3.1116, test_loss: 1.6878]\n",
      "What? What I did nottond this was sinterible. And see seps\n",
      "first the buse thear, sir. But Morbor the c \n",
      "\n",
      "900\n",
      "[4m 57s (1000 66%) train loss: 3.0609, test_loss: 1.6795]\n",
      "What her you three, demirishing: 'Jesus accellyed in the yead. As anprysest were you her Barrett IV re \n",
      "\n",
      "1000\n",
      "[5m 27s (1100 73%) train loss: 3.0795, test_loss: 1.7155]\n",
      "Whe neva could been for her cranitions\n",
      "father Barretts to even he was not slight.'\n",
      "Up, and seven had h \n",
      "\n",
      "1100\n",
      "[5m 57s (1200 80%) train loss: 3.0521, test_loss: 1.7198]\n",
      "When Ray starts. Jenny been the putter. What I could a fort\n",
      "sirs to statermation hopen there of word t \n",
      "\n",
      "1200\n",
      "[6m 27s (1300 86%) train loss: 3.0651, test_loss: 1.7014]\n",
      "Wholked into explatire me to sit this is the have on at me down that the right was think I thir Cavill \n",
      "\n",
      "1300\n",
      "[6m 57s (1400 93%) train loss: 3.0866, test_loss: 1.7072]\n",
      "What were parents. And you asked to warman should office, Ause Strened my proof menceds.\n",
      "I would not t \n",
      "\n",
      "1400\n",
      "[7m 26s (1500 100%) train loss: 3.0008, test_loss: 1.6820]\n",
      "When - I was a could all this really begas were chassed.\n",
      "I said. 'If that her some - as around my\n",
      "firs \n",
      "\n",
      "1500\n",
      "text generation for model type rnn     That covarr,' she said, and I guy'\n",
      "out we're daused to do some that mother defation.\n",
      "I meancles time. Barrett. Rald on a slead her\n",
      "our that expression that his intire and I can post - and we was\n",
      "ashape in Widflection, the\n",
      "grame and I was every name of my now he was see in at see her in and with in\n",
      "madnis and of her Jenny scerouss. I just he recomately that of day of a hably gro you had other dinnity Sturring Jenny specist, as it had God.\n",
      "As Oliver Barrett. Notho Club was not in the got in the hatial was say\n",
      "don't know not ser at to\n",
      "answeric yellied beake don't hand. Anywe to prome - what do you nothing.\n",
      "They for a mached into the timed a goddammon Sunday proard third was his a stones to she hear Shef that I don't have really were or a ribor courses the woudslited the really' cun me, all her withed exming and get at the name to said.\n",
      "'Yes, bughs - wasn't when a next the careation. Peyer was that for me. She don't ken a real law should smad concernot as a was only had\n",
      "but another sonstan m\n"
     ]
    },
    {
     "data": {
      "image/png": "[encoded data removed]",
      "text/plain": [
       "<Figure size 432x288 with 1 Axes>"
      ]
     },
     "metadata": {
      "needs_background": "light"
     },
     "output_type": "display_data"
    }
   ],
   "source": [
    "rnn1 = complete(model_type='rnn',hidden_size = 100,n_layers=1)"
   ]
  },
  {
   "cell_type": "code",
   "execution_count": 60,
   "metadata": {
    "id": "G3xJNoQNr2iu",
    "outputId": "3f85af95-d31e-40ec-cae9-8b5249e72e3f",
    "scrolled": false
   },
   "outputs": [
    {
     "name": "stdout",
     "output_type": "stream",
     "text": [
      "Training for 1500 epochs...\n",
      "[0m 30s (100 6%) train loss: 3.5791, test_loss: 1.8039]\n",
      "Whe scainfoly the I caswatay out a but I cranted collany like about this? I clastering.\n",
      "'Jech I gother \n",
      "\n",
      "100\n",
      "[1m 0s (200 13%) train loss: 3.2334, test_loss: 1.6851]\n",
      "Whoos?'\n",
      "Yes, Father. He wondernary going her what that Jenny was he gone exprating. This it was cave.  \n",
      "\n",
      "200\n",
      "[1m 30s (300 20%) train loss: 3.0883, test_loss: 1.6342]\n",
      "Where was gradually sear gotted how she asok words one sode to the\n",
      "sided to\n",
      "stunder:\n",
      "'For a should has \n",
      "\n",
      "300\n",
      "[2m 1s (400 26%) train loss: 2.9072, test_loss: 1.6336]\n",
      "Whor!'\n",
      "'At aid Oliver Landamn of Oliver Barrett!'\n",
      "She was as Would\n",
      "here gone, she had not man you expl \n",
      "\n",
      "400\n",
      "[2m 31s (500 33%) train loss: 2.9354, test_loss: 1.6528]\n",
      "Where this off I sing. She was\n",
      "araked on the confer so whicked.\n",
      "'What?'\n",
      "'For a matk aitolly comment -  \n",
      "\n",
      "500\n",
      "[3m 1s (600 40%) train loss: 2.8540, test_loss: 1.6593]\n",
      "Which care very beive-prestant if the fans for my remperedsenty the now over this for me, silented bee \n",
      "\n",
      "600\n",
      "[3m 32s (700 46%) train loss: 2.7780, test_loss: 1.6421]\n",
      "Whoo? I mean, that\n",
      "would be\n",
      "two my hear a bit than it were pastang to gettive\n",
      "your out voice, in was a \n",
      "\n",
      "700\n",
      "[4m 2s (800 53%) train loss: 2.7634, test_loss: 1.6626]\n",
      "Where a cold runniniest fratual mind I was a tried sees a faney I dover, she saltulainate the fom Al s \n",
      "\n",
      "800\n",
      "[4m 33s (900 60%) train loss: 2.7632, test_loss: 1.6712]\n",
      "What\n",
      "me suggesting at my lang to use the month that she was nuruction over Harvard man into the sonoff \n",
      "\n",
      "900\n",
      "[5m 3s (1000 66%) train loss: 2.7638, test_loss: 1.7058]\n",
      "What have his with you to know he asked, Father been in\n",
      "clease, the way to plays room in\n",
      "the play to b \n",
      "\n",
      "1000\n",
      "[5m 33s (1100 73%) train loss: 2.7086, test_loss: 1.6790]\n",
      "What do you turned her).\n",
      "'She's as here,' said Jenny worry man work. But merring of it this her mother \n",
      "\n",
      "1100\n",
      "[6m 4s (1200 80%) train loss: 2.7057, test_loss: 1.6961]\n",
      "What the time), hard talking me and we way the what\n",
      "Jenny's are ornesen involver and her back.\n",
      "'Hey, O \n",
      "\n",
      "1200\n",
      "[6m 34s (1300 86%) train loss: 2.6982, test_loss: 1.6619]\n",
      "What you talking about about that she was not remarked Jenny). Ahh? Why why had\n",
      "line music incling mom \n",
      "\n",
      "1300\n",
      "[7m 4s (1400 93%) train loss: 2.7365, test_loss: 1.6439]\n",
      "What in the mother are in) that the pastating at the cheap\n",
      "I had been sitt dozent.'\n",
      "'Okay.'\n",
      "'Oliver,'  \n",
      "\n",
      "1400\n",
      "[7m 35s (1500 100%) train loss: 2.6383, test_loss: 1.6664]\n",
      "What her baby when she could read her argain out of my\n",
      "mover, but last was beogaunced or in my superva \n",
      "\n",
      "1500\n",
      "text generation for model type gru     The - not been my for specive finally look to many ristic stumn reaction on eracting each of\n",
      "resent, I can team, reserveld in one of my boally still would say vorval really on the\n",
      "spectured, Ohat, I guess.\n",
      "'Yes, sir,' I replied.\n",
      "'I'd my cong betona, Phil, all the Boant of Ray Stucapively whate.'\n",
      "'Yeah, Oliver III, how came?'\n",
      "'Don't you have taking the younced the God Mr. Barrricchoused one need the crosed, hunked.\n",
      "'Really one name of it,' she said, 'could you turned expect your did?' I asked.\n",
      "'This's she was what what was the teard or made to eridedian you takin a sent let Harvard\n",
      "few at the time to dark and saying.\n",
      "'That boaw, I I have 'and pating me at the mother. I mean, a here, and I could not of when college.\n",
      "'How kissed? We'll lightly Oliver Barrett Schileday?'\n",
      "She was in the time), and been had to sking and intest loved the boards left our tell\n",
      "both her. I dumb, she said, 'Oh,' said her.\n",
      "'I've pounoffect, Ollie?'\n",
      "No the mother could sitch of Harvard about the Harvard.\n",
      "Mother.\n",
      "Ther\n"
     ]
    },
    {
     "data": {
      "image/png": "[encoded data removed]",
      "text/plain": [
       "<Figure size 432x288 with 1 Axes>"
      ]
     },
     "metadata": {
      "needs_background": "light"
     },
     "output_type": "display_data"
    }
   ],
   "source": [
    "gru1 = complete(model_type='gru',hidden_size = 100,n_layers=1)"
   ]
  },
  {
   "cell_type": "code",
   "execution_count": 61,
   "metadata": {
    "id": "GpPdHThcowgZ",
    "outputId": "398c9196-30fe-466d-c3d6-1f42d85920f6",
    "scrolled": false
   },
   "outputs": [
    {
     "name": "stdout",
     "output_type": "stream",
     "text": [
      "Training for 1500 epochs...\n",
      "[0m 30s (100 6%) train loss: 3.8221, test_loss: 1.8625]\n",
      "Whiess, dyou guage, all droith heather tur bound trouce.\n",
      "'A saling no\n",
      "to there kay none would. Jenny g \n",
      "\n",
      "100\n",
      "[1m 1s (200 13%) train loss: 3.3898, test_loss: 1.7056]\n",
      "What was hung,' I gong forthy nevers.\n",
      "Son't this a guess was siring at deancious af in the had it what \n",
      "\n",
      "200\n",
      "[1m 31s (300 20%) train loss: 3.1653, test_loss: 1.6298]\n",
      "Who makit. At the prestices that purt I was some to relieve sit.\n",
      "I had bee outt Mr. Cavillered a being \n",
      "\n",
      "300\n",
      "[2m 2s (400 26%) train loss: 3.0208, test_loss: 1.6544]\n",
      "What be\n",
      "well, I had syout to Attery to sayses as Jenny had not be cirty than in any, into the more my  \n",
      "\n",
      "400\n",
      "[2m 32s (500 33%) train loss: 2.9150, test_loss: 1.6402]\n",
      "When I termered to her soft that would eye she study.\n",
      "'Listle-iently.\n",
      "'Would you thing? What do you pa \n",
      "\n",
      "500\n",
      "[3m 3s (600 40%) train loss: 2.9112, test_loss: 1.6183]\n",
      "Whough - the\n",
      "same despitely school.\n",
      "'Oh - won\n",
      "this plays off were this and the converthed more, I gues \n",
      "\n",
      "600\n",
      "[3m 34s (700 46%) train loss: 2.7218, test_loss: 1.6251]\n",
      "Whoulderies\n",
      "from and I mean,' I said Hawn what is the a maning into the prival,' I replied. The pretty \n",
      "\n",
      "700\n",
      "[4m 4s (800 53%) train loss: 2.7094, test_loss: 1.6684]\n",
      "Whep? Of your bittard worth of the tile, it was she notimber was with a great ben my mother (a minuted \n",
      "\n",
      "800\n",
      "[4m 35s (900 60%) train loss: 2.6654, test_loss: 1.6453]\n",
      "Where were finally because all she was a wild, Precibleckling up\n",
      "an his drivelt say in a box, being te \n",
      "\n",
      "900\n",
      "[5m 5s (1000 66%) train loss: 2.6755, test_loss: 1.6618]\n",
      "When wono to be think God. I can was not bullshets of the enough an me, she wasn't extread.\n",
      "It we a co \n",
      "\n",
      "1000\n",
      "[5m 36s (1100 73%) train loss: 2.6328, test_loss: 1.6932]\n",
      "Whee fand's who does that we could hear the\n",
      "reply.'\n",
      "'Oliver Barrett I really goddamn more\n",
      "the eing to  \n",
      "\n",
      "1100\n",
      "[6m 7s (1200 80%) train loss: 2.5625, test_loss: 1.7213]\n",
      "Whoth, as I shootly some from me, and I was not having to marriage?'\n",
      "'Me. I'm ask me finally she was r \n",
      "\n",
      "1200\n",
      "[6m 37s (1300 86%) train loss: 2.5715, test_loss: 1.7135]\n",
      "Who say. Christ, but all faulitior\n",
      "cold rich,\n",
      "'Listenal, to be crowd sizing herself you please wankse. \n",
      "\n",
      "1300\n",
      "[7m 8s (1400 93%) train loss: 2.5481, test_loss: 1.7414]\n",
      "Whoob - have you were taking concerets, all the goddamn this think it children. The donically is, but  \n",
      "\n",
      "1400\n",
      "[7m 38s (1500 100%) train loss: 2.4906, test_loss: 1.7662]\n",
      "Whe knee. 105, Music was my spiend about my father would long what of the comforteant it. And gerrette \n",
      "\n",
      "1500\n",
      "text generation for model type lstm     The stratton,' I said.\n",
      "'I was not much and I would have to lose of\n",
      "blence with a discoverens down of being of my lovely - and I had first for something like the sups the realabe a pretty who donifer. I mean, Phil?' I love squasol there, Jenny, so I can be it knew I was, but I was over enough an you triatured all in\n",
      "Cambridge that\n",
      "kept to served her not to what was I had all the dozen. She was on one is the driving? I mean, the Barrett. I mean shumth she was are you did out of\n",
      "Mass,' said my really even gotten remark, Jenny, I had not bossible.\n",
      "This what?'\n",
      "I replied.\n",
      "'Olline.'\n",
      "'He see of here, it supposed to mean in a stranger deserve I continued. But it was a mind Soutal at even to get of this taken first to be a word except three breath bastard. ('He stile of could knew who I would not a dinnal, 'do who I seerible. Several.\n",
      "'God,' said Jenny. I amon just excent me,' Jenny asked an a fine. Not much doing to stone sitting in a cain and succe, Phil Cavilleri, into the way a glassing - be t\n"
     ]
    },
    {
     "data": {
      "image/png": "[encoded data removed]",
      "text/plain": [
       "<Figure size 432x288 with 1 Axes>"
      ]
     },
     "metadata": {
      "needs_background": "light"
     },
     "output_type": "display_data"
    }
   ],
   "source": [
    "lstm1 = complete(model_type='lstm',hidden_size = 100,n_layers=1)"
   ]
  },
  {
   "cell_type": "code",
   "execution_count": null,
   "metadata": {
    "id": "Xw4aDdVgr3Q0"
   },
   "outputs": [],
   "source": []
  },
  {
   "cell_type": "code",
   "execution_count": null,
   "metadata": {
    "id": "NBspyLPdrxaX"
   },
   "outputs": [],
   "source": []
  },
  {
   "cell_type": "code",
   "execution_count": null,
   "metadata": {
    "id": "f8D34lXvr-Mc"
   },
   "outputs": [],
   "source": []
  },
  {
   "cell_type": "code",
   "execution_count": null,
   "metadata": {
    "id": "UhxlQNMJsDPX"
   },
   "outputs": [],
   "source": []
  },
  {
   "cell_type": "code",
   "execution_count": 65,
   "metadata": {
    "colab": {
     "base_uri": "https://localhost:8080/"
    },
    "id": "oQ1ZV350dvOV",
    "outputId": "e2806bf0-0d88-49a3-8b0d-3a9c19e45169"
   },
   "outputs": [
    {
     "name": "stdout",
     "output_type": "stream",
     "text": [
      "This of me for\n",
      "mading the Cornell things, scarver in them, Jenny's give been musion. I wanted should shumbuch of the tole so I like a collegh, and I was has a moral, the loves: 'Bade hell.'\n",
      "The rellied earise conly one at increcimome.'\n",
      "She father. I mean, after 'oke all which dradus I said he some didn't you could\n",
      "to get there will, he I wanted it was can belish the so anr.'\n",
      "'Get the really like Harvard soon and he was and not of the Corpho to heause were acriston, and Stration. Much. Sid.\n",
      "'Ares, Oliver, I do you lon, Rhode I explly and some\n",
      "child. Somewh and yet treme' he was\n",
      "that proot off'\n",
      "'Yeah, Oliver, it had no love you\n",
      "less, Jenny and I had every was one, ward, block out to the next\n",
      "be stamps and years had why did exaing and the vicint,' I said.\n",
      "'You'll going seat, I resiase come of my name\n",
      "of to then she was, and so with the doing.'\n",
      "Prew many took that my stold the moralsy time.'\n",
      "'That's said her courses all.\n",
      "'But in the morally\n",
      "somewlately dished as adopoust\n",
      "was smile I not read\n"
     ]
    }
   ],
   "source": [
    "print(evaluate(rnn1, prime_str='Th', predict_len=1000))"
   ]
  },
  {
   "cell_type": "code",
   "execution_count": 66,
   "metadata": {
    "id": "0_80gtnmsNq7",
    "outputId": "01fe2ce5-9dfe-43bd-ea79-482461d39748"
   },
   "outputs": [
    {
     "name": "stdout",
     "output_type": "stream",
     "text": [
      "The man (I said you talking her that I was so I donent of love held me to me acreated to made her such and down quiet. But if I had he\n",
      "sixty stood var?'\n",
      "'No. But I was a took you comply like intedragnally mintion how, which was away. Whrite younced think the boy doended her name) 'ad your profeated, 'A meanino?'\n",
      "'Because I had told obving I after after the crong were riken three in the goddamn for more nose conversated she assiasmant - we carefuld boautean to hok set a best down the pretty merred.\n",
      "It don't yes, beif exiser saliation. But I was so watching very preevanty withon one upsember after\n",
      "the laughe, Dean Thomer, be une-out to pasbie things of up aware, so is not marry in the piece. As out the\n",
      "place, 'What in the domboxing like so for you to suggest of me, some crebid that look was. 'Doess was dard, rights, but '\n",
      "Sups. I doingriest I amone to could I scrucking postable. Not my put a goone sake could been name of the spection at my hear-meating\n",
      "stater, being with his for my iderrii\n"
     ]
    }
   ],
   "source": [
    "print(evaluate(gru1, prime_str='Th', predict_len=1000))\n"
   ]
  },
  {
   "cell_type": "code",
   "execution_count": 67,
   "metadata": {
    "id": "ajcL70tJsRQK",
    "outputId": "b875087e-6a1d-4636-9bbc-53fd03144f1f"
   },
   "outputs": [
    {
     "name": "stdout",
     "output_type": "stream",
     "text": [
      "The moment worknes of either out of every go cooking oft of the and selthters, who roesn't merely she week lice.\n",
      "'Yes, sir,' I said.\n",
      "'Can or every had some playing in a sarally say no cruse'\n",
      "introde New Yorked as a good never love of the cheek it was late care\n",
      "of us sharvardamment up a\n",
      "sates that his all of Jenny, hopain we love you never should the sonto bectia the witty reperstrain the time to take consturet-scone.\n",
      "'May had to tell that he could not at many talk in the\n",
      "ring marree. I was love, she was making that! He would love to\n",
      "smenting it was a delated, Harvard yess too come rich, hopis\n",
      "of the echol's\n",
      "quietly, knowing the becauzessed me even I pasture voice, her, whisperate was hear the stake way. Don't so go to marry and fan the roith a doesn't to a sland on the Exet, she said he had\n",
      "straight was in the ring to her could I love if I waso there pounds the\n",
      "soker.\n",
      "'I think it needed as strained him of the trattenstened to marry to get over the and I don't you're your drivically name,\n"
     ]
    }
   ],
   "source": [
    "print(evaluate(lstm1, prime_str='Th', predict_len=1000))\n"
   ]
  },
  {
   "cell_type": "markdown",
   "metadata": {
    "id": "D-Bwv723dvOV"
   },
   "source": [
    "# Hyperparameter Tuning\n",
    "\n",
    "Some things you should try to improve your network performance are:\n",
    "- Different RNN types. Switch the basic RNN network in your model to a GRU and LSTM to compare all three.\n",
    "- Try adding 1 or two more layers\n",
    "- Increase the hidden layer size\n",
    "- Changing the learning rate\n",
    "\n",
    "**TODO:** Try changing the RNN type and hyperparameters. Record your results."
   ]
  },
  {
   "cell_type": "code",
   "execution_count": null,
   "metadata": {
    "id": "Ft61Qp9moKGk"
   },
   "outputs": [],
   "source": []
  },
  {
   "cell_type": "code",
   "execution_count": null,
   "metadata": {
    "id": "M4b0vG3VoKD-"
   },
   "outputs": [],
   "source": []
  },
  {
   "cell_type": "code",
   "execution_count": null,
   "metadata": {
    "id": "oohyAIS8oKBw"
   },
   "outputs": [],
   "source": []
  },
  {
   "cell_type": "code",
   "execution_count": null,
   "metadata": {
    "id": "uDeJAwaild-A"
   },
   "outputs": [],
   "source": []
  }
 ],
 "metadata": {
  "accelerator": "GPU",
  "anaconda-cloud": {},
  "colab": {
   "provenance": []
  },
  "gpuClass": "standard",
  "kernelspec": {
   "display_name": "Python 3 (ipykernel)",
   "language": "python",
   "name": "python3"
  },
  "language_info": {
   "codemirror_mode": {
    "name": "ipython",
    "version": 3
   },
   "file_extension": ".py",
   "mimetype": "text/x-python",
   "name": "python",
   "nbconvert_exporter": "python",
   "pygments_lexer": "ipython3",
   "version": "3.9.9"
  }
 },
 "nbformat": 4,
 "nbformat_minor": 1
}
